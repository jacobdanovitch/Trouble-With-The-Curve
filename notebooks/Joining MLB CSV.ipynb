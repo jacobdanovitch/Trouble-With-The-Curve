{
 "cells": [
  {
   "cell_type": "code",
   "execution_count": 2,
   "metadata": {},
   "outputs": [
    {
     "name": "stderr",
     "output_type": "stream",
     "text": [
      "/home/jacobgdt/anaconda3/envs/cling/lib/python3.6/site-packages/tqdm/autonotebook/__init__.py:14: TqdmExperimentalWarning: Using `tqdm.autonotebook.tqdm` in notebook mode. Use `tqdm.tqdm` instead to force console mode (e.g. in jupyter console)\n",
      "  \" (e.g. in jupyter console)\", TqdmExperimentalWarning)\n"
     ]
    }
   ],
   "source": [
    "%load_ext autoreload\n",
    "%autoreload 2\n",
    "\n",
    "import pandas as pd\n",
    "import numpy as np\n",
    "\n",
    "from data_integration import *"
   ]
  },
  {
   "cell_type": "code",
   "execution_count": 82,
   "metadata": {},
   "outputs": [
    {
     "name": "stdout",
     "output_type": "stream",
     "text": [
      "(9214, 65)\n",
      "Non-empty rows: 7969\n"
     ]
    },
    {
     "data": {
      "text/html": [
       "<div>\n",
       "<style scoped>\n",
       "    .dataframe tbody tr th:only-of-type {\n",
       "        vertical-align: middle;\n",
       "    }\n",
       "\n",
       "    .dataframe tbody tr th {\n",
       "        vertical-align: top;\n",
       "    }\n",
       "\n",
       "    .dataframe thead th {\n",
       "        text-align: right;\n",
       "    }\n",
       "</style>\n",
       "<table border=\"1\" class=\"dataframe\">\n",
       "  <thead>\n",
       "    <tr style=\"text-align: right;\">\n",
       "      <th></th>\n",
       "      <th>name</th>\n",
       "      <th>key_mlbam</th>\n",
       "      <th>key_fangraphs</th>\n",
       "      <th>key_bbref</th>\n",
       "      <th>key_bbref_minors</th>\n",
       "      <th>key_uuid</th>\n",
       "      <th>mlb_played_first</th>\n",
       "      <th>birthdate</th>\n",
       "      <th>debut_age</th>\n",
       "      <th>age</th>\n",
       "      <th>...</th>\n",
       "      <th>SB</th>\n",
       "      <th>Hld</th>\n",
       "      <th>Pitches</th>\n",
       "      <th>BB_pit</th>\n",
       "      <th>OPS</th>\n",
       "      <th>AB</th>\n",
       "      <th>SV</th>\n",
       "      <th>BB</th>\n",
       "      <th>W</th>\n",
       "      <th>SLG</th>\n",
       "    </tr>\n",
       "  </thead>\n",
       "  <tbody>\n",
       "    <tr>\n",
       "      <th>0</th>\n",
       "      <td>**Luke Heimlich</td>\n",
       "      <td>-1</td>\n",
       "      <td>18360</td>\n",
       "      <td>NaN</td>\n",
       "      <td>NaN</td>\n",
       "      <td>NaN</td>\n",
       "      <td>NaN</td>\n",
       "      <td>NaN</td>\n",
       "      <td>NaN</td>\n",
       "      <td>22.3</td>\n",
       "      <td>...</td>\n",
       "      <td>1.0</td>\n",
       "      <td>0.0</td>\n",
       "      <td>1243.0</td>\n",
       "      <td>0.0</td>\n",
       "      <td>0.809597</td>\n",
       "      <td>291.0</td>\n",
       "      <td>0.0</td>\n",
       "      <td>26.0</td>\n",
       "      <td>0.0</td>\n",
       "      <td>0.463918</td>\n",
       "    </tr>\n",
       "    <tr>\n",
       "      <th>1</th>\n",
       "      <td>**Noah Song</td>\n",
       "      <td>679977</td>\n",
       "      <td>sa917943</td>\n",
       "      <td>NaN</td>\n",
       "      <td>NaN</td>\n",
       "      <td>NaN</td>\n",
       "      <td>NaN</td>\n",
       "      <td>NaN</td>\n",
       "      <td>NaN</td>\n",
       "      <td>22.0</td>\n",
       "      <td>...</td>\n",
       "      <td>17.0</td>\n",
       "      <td>0.0</td>\n",
       "      <td>1436.0</td>\n",
       "      <td>0.0</td>\n",
       "      <td>0.685559</td>\n",
       "      <td>318.0</td>\n",
       "      <td>0.0</td>\n",
       "      <td>54.0</td>\n",
       "      <td>0.0</td>\n",
       "      <td>0.336478</td>\n",
       "    </tr>\n",
       "    <tr>\n",
       "      <th>2</th>\n",
       "      <td>A.J. Alexy</td>\n",
       "      <td>669935</td>\n",
       "      <td>NaN</td>\n",
       "      <td>NaN</td>\n",
       "      <td>alexy-000aj-</td>\n",
       "      <td>c5bd95ff-593c-4875-b48e-012da0caca64</td>\n",
       "      <td>NaN</td>\n",
       "      <td>1998-04-21T00:00:00.000Z</td>\n",
       "      <td>NaN</td>\n",
       "      <td>19.7</td>\n",
       "      <td>...</td>\n",
       "      <td>0.0</td>\n",
       "      <td>0.0</td>\n",
       "      <td>0.0</td>\n",
       "      <td>3.0</td>\n",
       "      <td>0.000000</td>\n",
       "      <td>0.0</td>\n",
       "      <td>0.0</td>\n",
       "      <td>0.0</td>\n",
       "      <td>1.0</td>\n",
       "      <td>0.000000</td>\n",
       "    </tr>\n",
       "    <tr>\n",
       "      <th>3</th>\n",
       "      <td>A.J. Alexy</td>\n",
       "      <td>669935</td>\n",
       "      <td>NaN</td>\n",
       "      <td>NaN</td>\n",
       "      <td>alexy-000aj-</td>\n",
       "      <td>c5bd95ff-593c-4875-b48e-012da0caca64</td>\n",
       "      <td>NaN</td>\n",
       "      <td>1998-04-21T00:00:00.000Z</td>\n",
       "      <td>NaN</td>\n",
       "      <td>18.7</td>\n",
       "      <td>...</td>\n",
       "      <td>0.0</td>\n",
       "      <td>0.0</td>\n",
       "      <td>0.0</td>\n",
       "      <td>3.0</td>\n",
       "      <td>0.000000</td>\n",
       "      <td>0.0</td>\n",
       "      <td>0.0</td>\n",
       "      <td>0.0</td>\n",
       "      <td>1.0</td>\n",
       "      <td>0.000000</td>\n",
       "    </tr>\n",
       "    <tr>\n",
       "      <th>4</th>\n",
       "      <td>A.J. Cole</td>\n",
       "      <td>595918</td>\n",
       "      <td>11467</td>\n",
       "      <td>coleaj01</td>\n",
       "      <td>cole--001aj-</td>\n",
       "      <td>0596c185-ae62-436a-92b9-79b9a145d64d</td>\n",
       "      <td>2015.0</td>\n",
       "      <td>1992-01-05T00:00:00.000Z</td>\n",
       "      <td>23.0</td>\n",
       "      <td>22.0</td>\n",
       "      <td>...</td>\n",
       "      <td>0.0</td>\n",
       "      <td>0.0</td>\n",
       "      <td>32.0</td>\n",
       "      <td>15.0</td>\n",
       "      <td>0.000000</td>\n",
       "      <td>8.0</td>\n",
       "      <td>0.0</td>\n",
       "      <td>0.0</td>\n",
       "      <td>6.0</td>\n",
       "      <td>0.000000</td>\n",
       "    </tr>\n",
       "  </tbody>\n",
       "</table>\n",
       "<p>5 rows × 65 columns</p>\n",
       "</div>"
      ],
      "text/plain": [
       "              name  key_mlbam key_fangraphs key_bbref key_bbref_minors  \\\n",
       "0  **Luke Heimlich         -1         18360       NaN              NaN   \n",
       "1      **Noah Song     679977      sa917943       NaN              NaN   \n",
       "2       A.J. Alexy     669935           NaN       NaN     alexy-000aj-   \n",
       "3       A.J. Alexy     669935           NaN       NaN     alexy-000aj-   \n",
       "4        A.J. Cole     595918         11467  coleaj01     cole--001aj-   \n",
       "\n",
       "                               key_uuid  mlb_played_first  \\\n",
       "0                                   NaN               NaN   \n",
       "1                                   NaN               NaN   \n",
       "2  c5bd95ff-593c-4875-b48e-012da0caca64               NaN   \n",
       "3  c5bd95ff-593c-4875-b48e-012da0caca64               NaN   \n",
       "4  0596c185-ae62-436a-92b9-79b9a145d64d            2015.0   \n",
       "\n",
       "                  birthdate  debut_age   age    ...       SB  Hld  Pitches  \\\n",
       "0                       NaN        NaN  22.3    ...      1.0  0.0   1243.0   \n",
       "1                       NaN        NaN  22.0    ...     17.0  0.0   1436.0   \n",
       "2  1998-04-21T00:00:00.000Z        NaN  19.7    ...      0.0  0.0      0.0   \n",
       "3  1998-04-21T00:00:00.000Z        NaN  18.7    ...      0.0  0.0      0.0   \n",
       "4  1992-01-05T00:00:00.000Z       23.0  22.0    ...      0.0  0.0     32.0   \n",
       "\n",
       "  BB_pit       OPS     AB   SV    BB    W       SLG  \n",
       "0    0.0  0.809597  291.0  0.0  26.0  0.0  0.463918  \n",
       "1    0.0  0.685559  318.0  0.0  54.0  0.0  0.336478  \n",
       "2    3.0  0.000000    0.0  0.0   0.0  1.0  0.000000  \n",
       "3    3.0  0.000000    0.0  0.0   0.0  1.0  0.000000  \n",
       "4   15.0  0.000000    8.0  0.0   0.0  6.0  0.000000  \n",
       "\n",
       "[5 rows x 65 columns]"
      ]
     },
     "execution_count": 82,
     "metadata": {},
     "output_type": "execute_result"
    }
   ],
   "source": [
    "twtc = load_twtc()\n",
    "\n",
    "stats = load_stats_df(twtc)\n",
    "stats = stats.drop(['fg_season_id', 'am_season_id'], axis=1)\n",
    "\n",
    "df = pd.concat([twtc, stats], axis=1)\n",
    "\n",
    "df = fill_missing_data(df, stats.columns)\n",
    "df = df.replace('*.**', np.nan).dropna(subset=stats.columns)\n",
    "\n",
    "print(df.shape)\n",
    "print(f'Non-empty rows: {(df[stats.columns].sum(axis=1) != 0).sum()}')\n",
    "df.head()"
   ]
  },
  {
   "cell_type": "code",
   "execution_count": 72,
   "metadata": {},
   "outputs": [
    {
     "data": {
      "text/plain": [
       "Index(['OBP', 'CS', 'WHIP', 'HR', 'ERA', 'SO', 'H', 'SO_pit', 'L', 'R',\n",
       "       'Level', 'RBI', 'Age', 'Age_pit', '3B', 'BS', 'GP', 'TBF', '2B', 'AVG',\n",
       "       'HR_pit', 'IP', 'SB', 'Hld', 'Pitches', 'BB_pit', 'OPS', 'AB', 'SV',\n",
       "       'BB', 'W', 'SLG'],\n",
       "      dtype='object')"
      ]
     },
     "execution_count": 72,
     "metadata": {},
     "output_type": "execute_result"
    }
   ],
   "source": [
    "stats.columns"
   ]
  },
  {
   "cell_type": "code",
   "execution_count": 74,
   "metadata": {},
   "outputs": [],
   "source": [
    "lookup = lambda col: df.loc[~df[col].astype(str).apply(lambda x: x.replace('.', '', 1).isdigit()), ['clean_name', col]]"
   ]
  },
  {
   "cell_type": "code",
   "execution_count": 76,
   "metadata": {
    "scrolled": true
   },
   "outputs": [
    {
     "data": {
      "text/plain": [
       "[('OBP', dtype('float64')),\n",
       " ('CS', dtype('float64')),\n",
       " ('WHIP', dtype('float64')),\n",
       " ('HR', dtype('float64')),\n",
       " ('ERA', dtype('float64')),\n",
       " ('SO', dtype('float64')),\n",
       " ('H', dtype('float64')),\n",
       " ('SO_pit', dtype('float64')),\n",
       " ('L', dtype('float64')),\n",
       " ('R', dtype('float64')),\n",
       " ('Level', dtype('O')),\n",
       " ('RBI', dtype('float64')),\n",
       " ('Age', dtype('O')),\n",
       " ('Age_pit', dtype('O')),\n",
       " ('3B', dtype('float64')),\n",
       " ('BS', dtype('float64')),\n",
       " ('GP', dtype('float64')),\n",
       " ('TBF', dtype('float64')),\n",
       " ('2B', dtype('float64')),\n",
       " ('AVG', dtype('float64')),\n",
       " ('HR_pit', dtype('float64')),\n",
       " ('IP', dtype('float64')),\n",
       " ('SB', dtype('float64')),\n",
       " ('Hld', dtype('float64')),\n",
       " ('Pitches', dtype('float64')),\n",
       " ('BB_pit', dtype('float64')),\n",
       " ('OPS', dtype('float64')),\n",
       " ('AB', dtype('float64')),\n",
       " ('SV', dtype('float64')),\n",
       " ('BB', dtype('float64')),\n",
       " ('W', dtype('float64')),\n",
       " ('SLG', dtype('float64'))]"
      ]
     },
     "execution_count": 76,
     "metadata": {},
     "output_type": "execute_result"
    }
   ],
   "source": [
    "[(c, df[c].dtype) for c in stats.columns]"
   ]
  },
  {
   "cell_type": "code",
   "execution_count": 83,
   "metadata": {},
   "outputs": [],
   "source": [
    "# Otani has MLB stats\n",
    "df[(df[stats.columns].sum(axis=1) != 0) & (df.Level != 'MLB')].to_csv('joined_stats.csv', index=False)"
   ]
  },
  {
   "cell_type": "code",
   "execution_count": null,
   "metadata": {},
   "outputs": [],
   "source": []
  },
  {
   "cell_type": "code",
   "execution_count": null,
   "metadata": {},
   "outputs": [],
   "source": []
  },
  {
   "cell_type": "code",
   "execution_count": null,
   "metadata": {},
   "outputs": [],
   "source": []
  },
  {
   "cell_type": "code",
   "execution_count": null,
   "metadata": {},
   "outputs": [],
   "source": []
  },
  {
   "cell_type": "code",
   "execution_count": null,
   "metadata": {},
   "outputs": [],
   "source": []
  }
 ],
 "metadata": {
  "kernelspec": {
   "display_name": "Python 3",
   "language": "python",
   "name": "python3"
  },
  "language_info": {
   "codemirror_mode": {
    "name": "ipython",
    "version": 3
   },
   "file_extension": ".py",
   "mimetype": "text/x-python",
   "name": "python",
   "nbconvert_exporter": "python",
   "pygments_lexer": "ipython3",
   "version": "3.6.8"
  }
 },
 "nbformat": 4,
 "nbformat_minor": 2
}
