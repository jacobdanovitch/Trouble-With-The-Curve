{
 "cells": [
  {
   "cell_type": "code",
   "execution_count": 1,
   "metadata": {},
   "outputs": [],
   "source": [
    "import re\n",
    "\n",
    "import requests\n",
    "from bs4 import BeautifulSoup as Soup\n",
    "\n",
    "import pandas as pd\n",
    "import numpy as np"
   ]
  },
  {
   "cell_type": "code",
   "execution_count": 3,
   "metadata": {},
   "outputs": [],
   "source": [
    "s = Soup(\n",
    "    requests.get('https://www.mlb.com/prospects/stats/top-prospects?type=all&dateRange=Year2019&minPA=1').content,\n",
    "    \"lxml\"\n",
    ")"
   ]
  },
  {
   "cell_type": "code",
   "execution_count": 25,
   "metadata": {},
   "outputs": [
    {
     "data": {
      "text/plain": [
       "['Rk',\n",
       " 'Player',\n",
       " 'Tm',\n",
       " 'Age',\n",
       " 'L',\n",
       " 'PA',\n",
       " 'AB',\n",
       " 'R',\n",
       " 'H',\n",
       " '2B',\n",
       " '3B',\n",
       " 'HR',\n",
       " 'TB',\n",
       " 'RBI',\n",
       " 'BB',\n",
       " 'SO',\n",
       " 'SB',\n",
       " 'CS',\n",
       " 'LOB',\n",
       " 'HR%',\n",
       " 'BB%',\n",
       " 'K%',\n",
       " 'AVG',\n",
       " 'OBP',\n",
       " 'SLG',\n",
       " 'OPS']"
      ]
     },
     "execution_count": 25,
     "metadata": {},
     "output_type": "execute_result"
    }
   ],
   "source": [
    "headers = {'bat': 0, 'pitch': 1}\n",
    "\n",
    "columns = [x.get_text() for x in list(s.find_all('thead')[headers['bat']].children)[0].find_all('th') if x.get_text()]\n",
    "columns"
   ]
  },
  {
   "cell_type": "code",
   "execution_count": 78,
   "metadata": {},
   "outputs": [
    {
     "data": {
      "text/plain": [
       "['1',\n",
       " 'Nolan Jones',\n",
       " 114,\n",
       " '21',\n",
       " 'ALL (2)',\n",
       " '535',\n",
       " '430',\n",
       " '81',\n",
       " '117',\n",
       " '22',\n",
       " '3',\n",
       " '15',\n",
       " '190',\n",
       " '63',\n",
       " '96',\n",
       " '148',\n",
       " '7',\n",
       " '3',\n",
       " '197',\n",
       " '2.8',\n",
       " '17.9',\n",
       " '27.7',\n",
       " '.272',\n",
       " '.409',\n",
       " '.442',\n",
       " '.851',\n",
       " None]"
      ]
     },
     "execution_count": 78,
     "metadata": {},
     "output_type": "execute_result"
    }
   ],
   "source": [
    "def is_digit(s)\n",
    "return s.replace('.','',1).isdigit()\n",
    "\n",
    "def parse_logo(el):\n",
    "    url = list(el.children)[0].get('src')\n",
    "    url = re.findall('(\\d+).svg', url)\n",
    "    if not url or not url[0].isdigit():\n",
    "        return url or None\n",
    "    return int(url[0])\n",
    "\n",
    "def process_row(r):\n",
    "    pid = r.get('id')\n",
    "    vals = [x.get_text().strip() or parse_logo(x) for x in r.find_all('td', {'class': 'tr-data'})]\n",
    "    return\n",
    "\n",
    "\n",
    "# row_reg = 'battingProspects-row-.*'\n",
    "# row_reg = 'battingProspects-trSub_.*'\n",
    "row_reg = 'battingProspects-tr_.*'\n",
    "\n",
    "\n",
    "rows = s.find_all('tbody')[0].find_all('tr', id=re.compile(row_reg))\n",
    "#rows[:3]\n"
   ]
  },
  {
   "cell_type": "code",
   "execution_count": 77,
   "metadata": {},
   "outputs": [
    {
     "data": {
      "text/plain": [
       "False"
      ]
     },
     "execution_count": 77,
     "metadata": {},
     "output_type": "execute_result"
    }
   ],
   "source": [
    "'.409'.isdigit()"
   ]
  },
  {
   "cell_type": "code",
   "execution_count": 61,
   "metadata": {},
   "outputs": [
    {
     "data": {
      "text/plain": [
       "[<tr id=\"battingProspects-trSub_666134\" style=\"background-color: #ffffff; display: none;\"><td colspan=\"29\" id=\"battingProspects-tdSub_666134\"></td></tr>,\n",
       " <tr id=\"battingProspects-trSub_668939\" style=\"background-color: #ffffff; display: none;\"><td colspan=\"29\" id=\"battingProspects-tdSub_668939\"></td></tr>,\n",
       " <tr id=\"battingProspects-trSub_666158\" style=\"background-color: #ffffff; display: none;\"><td colspan=\"29\" id=\"battingProspects-tdSub_666158\"></td></tr>]"
      ]
     },
     "execution_count": 61,
     "metadata": {},
     "output_type": "execute_result"
    }
   ],
   "source": [
    "#[r.get_text() for r in rows[:5]]\n",
    "#len(rows)\n",
    "rows[:3]"
   ]
  },
  {
   "cell_type": "code",
   "execution_count": null,
   "metadata": {},
   "outputs": [],
   "source": []
  }
 ],
 "metadata": {
  "kernelspec": {
   "display_name": "Python 3",
   "language": "python",
   "name": "python3"
  },
  "language_info": {
   "codemirror_mode": {
    "name": "ipython",
    "version": 3
   },
   "file_extension": ".py",
   "mimetype": "text/x-python",
   "name": "python",
   "nbconvert_exporter": "python",
   "pygments_lexer": "ipython3",
   "version": "3.6.8"
  }
 },
 "nbformat": 4,
 "nbformat_minor": 2
}
