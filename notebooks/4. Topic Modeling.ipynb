{
  "nbformat": 4,
  "nbformat_minor": 0,
  "metadata": {
    "colab": {
      "name": "TWTC Topic Models",
      "version": "0.3.2",
      "provenance": [],
      "collapsed_sections": [],
      "include_colab_link": true
    },
    "kernelspec": {
      "name": "python3",
      "display_name": "Python 3"
    },
    "accelerator": "GPU"
  },
  "cells": [
    {
      "cell_type": "markdown",
      "metadata": {
        "id": "view-in-github",
        "colab_type": "text"
      },
      "source": [
        "<a href=\"https://colab.research.google.com/gist/jacobdanovitch/187d4fb71da7b1cbb82a8382bbf8952c/twtc-topic-models.ipynb\" target=\"_parent\"><img src=\"https://colab.research.google.com/assets/colab-badge.svg\" alt=\"Open In Colab\"/></a>"
      ]
    },
    {
      "cell_type": "markdown",
      "metadata": {
        "id": "AkJJ2rYkz7sa",
        "colab_type": "text"
      },
      "source": [
        "https://stackabuse.com/python-for-nlp-topic-modeling/"
      ]
    },
    {
      "cell_type": "code",
      "metadata": {
        "id": "Bn25Q8Yyv--L",
        "colab_type": "code",
        "colab": {
          "base_uri": "https://localhost:8080/",
          "height": 51
        },
        "outputId": "b6691b09-d6ec-4ec5-a4b3-df30b5a50dfc"
      },
      "source": [
        "import pandas as pd\n",
        "import numpy as np\n",
        "\n",
        "from sklearn.pipeline import make_pipeline\n",
        "from sklearn.feature_extraction.text import CountVectorizer, TfidfVectorizer\n",
        "from sklearn.decomposition import NMF, TruncatedSVD, SparsePCA as PCA, LatentDirichletAllocation as LDA\n",
        "\n",
        "import nltk\n",
        "from nltk.corpus import stopwords #; nltk.download('stopwords')\n",
        "\n",
        "import matplotlib.pyplot as plt\n",
        "import seaborn as sns; sns.set()"
      ],
      "execution_count": 163,
      "outputs": [
        {
          "output_type": "stream",
          "text": [
            "[nltk_data] Downloading package stopwords to /root/nltk_data...\n",
            "[nltk_data]   Unzipping corpora/stopwords.zip.\n"
          ],
          "name": "stdout"
        }
      ]
    },
    {
      "cell_type": "code",
      "metadata": {
        "id": "ob0C-HI1JrxI",
        "colab_type": "code",
        "colab": {
          "base_uri": "https://localhost:8080/",
          "height": 105
        },
        "outputId": "2041f64b-6830-48ab-a9ae-59b455d8b7da"
      },
      "source": [
        "!pip install -U scikit-learn"
      ],
      "execution_count": 241,
      "outputs": [
        {
          "output_type": "stream",
          "text": [
            "Requirement already up-to-date: scikit-learn in /usr/local/lib/python3.6/dist-packages (0.21.3)\n",
            "Requirement already satisfied, skipping upgrade: numpy>=1.11.0 in /usr/local/lib/python3.6/dist-packages (from scikit-learn) (1.16.5)\n",
            "Requirement already satisfied, skipping upgrade: joblib>=0.11 in /usr/local/lib/python3.6/dist-packages (from scikit-learn) (0.13.2)\n",
            "Requirement already satisfied, skipping upgrade: scipy>=0.17.0 in /usr/local/lib/python3.6/dist-packages (from scikit-learn) (1.3.1)\n"
          ],
          "name": "stdout"
        }
      ]
    },
    {
      "cell_type": "code",
      "metadata": {
        "id": "FbVakkowJMwT",
        "colab_type": "code",
        "colab": {}
      },
      "source": [
        "from sknn import ae#, mlp"
      ],
      "execution_count": 0,
      "outputs": []
    },
    {
      "cell_type": "code",
      "metadata": {
        "id": "8wOEZFzAwDQ0",
        "colab_type": "code",
        "colab": {
          "base_uri": "https://localhost:8080/",
          "height": 221
        },
        "outputId": "55cfc04c-ec1a-4e71-ee42-7a27e035c835"
      },
      "source": [
        "df = pd.read_csv('preprocessed.csv')[['report', 'label']]\n",
        "\n",
        "pos_docs = df[df.label == 1].report\n",
        "neg_docs = df[df.label == 0].report\n",
        "\n",
        "print(df.shape)\n",
        "df.head()"
      ],
      "execution_count": 161,
      "outputs": [
        {
          "output_type": "stream",
          "text": [
            "(5824, 2)\n"
          ],
          "name": "stdout"
        },
        {
          "output_type": "execute_result",
          "data": {
            "text/html": [
              "<div>\n",
              "<style scoped>\n",
              "    .dataframe tbody tr th:only-of-type {\n",
              "        vertical-align: middle;\n",
              "    }\n",
              "\n",
              "    .dataframe tbody tr th {\n",
              "        vertical-align: top;\n",
              "    }\n",
              "\n",
              "    .dataframe thead th {\n",
              "        text-align: right;\n",
              "    }\n",
              "</style>\n",
              "<table border=\"1\" class=\"dataframe\">\n",
              "  <thead>\n",
              "    <tr style=\"text-align: right;\">\n",
              "      <th></th>\n",
              "      <th>report</th>\n",
              "      <th>label</th>\n",
              "    </tr>\n",
              "  </thead>\n",
              "  <tbody>\n",
              "    <tr>\n",
              "      <th>0</th>\n",
              "      <td>PERSON is a Level NUMBER sex offender and woul...</td>\n",
              "      <td>0</td>\n",
              "    </tr>\n",
              "    <tr>\n",
              "      <th>1</th>\n",
              "      <td>PERSON made headlines for all the wrong reason...</td>\n",
              "      <td>0</td>\n",
              "    </tr>\n",
              "    <tr>\n",
              "      <th>2</th>\n",
              "      <td>The ORGANIZATION have acquired PERSON twice, f...</td>\n",
              "      <td>1</td>\n",
              "    </tr>\n",
              "    <tr>\n",
              "      <th>3</th>\n",
              "      <td>Signed for an above-slot $NUMBER million as a ...</td>\n",
              "      <td>1</td>\n",
              "    </tr>\n",
              "    <tr>\n",
              "      <th>4</th>\n",
              "      <td>It often takes time for those high-ceilinged, ...</td>\n",
              "      <td>0</td>\n",
              "    </tr>\n",
              "  </tbody>\n",
              "</table>\n",
              "</div>"
            ],
            "text/plain": [
              "                                              report  label\n",
              "0  PERSON is a Level NUMBER sex offender and woul...      0\n",
              "1  PERSON made headlines for all the wrong reason...      0\n",
              "2  The ORGANIZATION have acquired PERSON twice, f...      1\n",
              "3  Signed for an above-slot $NUMBER million as a ...      1\n",
              "4  It often takes time for those high-ceilinged, ...      0"
            ]
          },
          "metadata": {
            "tags": []
          },
          "execution_count": 161
        }
      ]
    },
    {
      "cell_type": "code",
      "metadata": {
        "id": "0csWFdFLXq3Q",
        "colab_type": "code",
        "colab": {}
      },
      "source": [
        "full_corpus = pd.read_csv('filled_twtc_13k.csv').report.dropna()"
      ],
      "execution_count": 0,
      "outputs": []
    },
    {
      "cell_type": "code",
      "metadata": {
        "id": "XBwWTbk3wPUE",
        "colab_type": "code",
        "colab": {}
      },
      "source": [
        "MODELS = {\n",
        "    \"lda\": (CountVectorizer, LDA),\n",
        "    \"nmf\": (TfidfVectorizer, NMF),\n",
        "    \"nmf2\": (CountVectorizer, NMF),\n",
        "    'lsi': (CountVectorizer, TruncatedSVD),\n",
        "    'ae': (CountVectorizer, lambda: ae.AutoEncoder(\n",
        "            layers=[\n",
        "                ae.Layer(\"Tanh\", units=128),\n",
        "                ae.Layer(\"Sigmoid\", units=64)],\n",
        "            learning_rate=0.002,\n",
        "            n_iter=10))\n",
        "}\n",
        "\n",
        "def corpus2vec(topic_model, docs, transform=np.mean):\n",
        "    topics = topic_model.transform(docs)\n",
        "    return transform(topics, axis=0)\n",
        "\n",
        "def closest_topics(topic_model, docs, n_topics=5):\n",
        "    similar = corpus2vec(topic_model, docs).argsort()[-n_topics:]\n",
        "    for n in similar:\n",
        "        print(fetch_topic(topic_model, n))\n",
        "        \n",
        "        \n",
        "def fetch_topic(topic_model, n):\n",
        "    params = topic_model.steps\n",
        "    model = params[1][1]\n",
        "    vect = params[0][1]\n",
        "    \n",
        "    topic_ids = model.components_[n].argsort()[-10:]\n",
        "    return [vect.get_feature_names()[i] for i in topic_ids]\n",
        "\n",
        "def visualize_topics(topic_model, topics, docs, annot=False):\n",
        "  doc_matrix = map(lambda x: corpus2vec(topic_model, x), docs.values())\n",
        "  doc_matrix = np.concatenate([d.reshape(-1, 1) for d in doc_matrix], axis=1)\n",
        "  doc_matrix = (doc_matrix - doc_matrix.mean(axis=0)) / doc_matrix.std(axis=0)\n",
        "\n",
        "  doc_df = pd.DataFrame(doc_matrix, index=topics, columns=docs.keys())\n",
        "  return sns.heatmap(doc_df, cmap=sns.diverging_palette(255, 0, sep=64, n=256), annot=annot, center=0), doc_matrix\n",
        "\n",
        "\n",
        "\n",
        "\n",
        "def fit_topic_model(name, docs, n_topics=5):\n",
        "  Vectorizer, Model = MODELS[name.lower()]\n",
        "  sw = {*stopwords.words('english'), \n",
        "        'gpe', 'person', 'number', 'organization', 'one', 'two', 'three', 'double', 'triple', 'numberth', 'second', 'first',\n",
        "        'base', 'big', 'league',  'ball', 'overall', 'pick', 'draft'\n",
        "  }\n",
        "  return make_pipeline(\n",
        "      Vectorizer(max_df=0.8, min_df=5, ngram_range=(1,1), stop_words=sw, use_idf=True),#, smooth_idf=True), # \n",
        "      Model(n_components=n_topics, random_state=1010100)#42)\n",
        "\n",
        "  ).fit(docs)"
      ],
      "execution_count": 0,
      "outputs": []
    },
    {
      "cell_type": "code",
      "metadata": {
        "colab_type": "code",
        "outputId": "aab61446-7598-42b6-8d83-7401e944ecfc",
        "id": "QLWawWOwPDh5",
        "colab": {
          "base_uri": "https://localhost:8080/",
          "height": 359
        }
      },
      "source": [
        "n_topics = 10\n",
        "topic_model = fit_topic_model('nmf', df.report, n_topics=n_topics)\n",
        "\n",
        "pd.DataFrame([fetch_topic(topic_model, n) for n in range(n_topics)])"
      ],
      "execution_count": 420,
      "outputs": [
        {
          "output_type": "execute_result",
          "data": {
            "text/html": [
              "<div>\n",
              "<style scoped>\n",
              "    .dataframe tbody tr th:only-of-type {\n",
              "        vertical-align: middle;\n",
              "    }\n",
              "\n",
              "    .dataframe tbody tr th {\n",
              "        vertical-align: top;\n",
              "    }\n",
              "\n",
              "    .dataframe thead th {\n",
              "        text-align: right;\n",
              "    }\n",
              "</style>\n",
              "<table border=\"1\" class=\"dataframe\">\n",
              "  <thead>\n",
              "    <tr style=\"text-align: right;\">\n",
              "      <th></th>\n",
              "      <th>0</th>\n",
              "      <th>1</th>\n",
              "      <th>2</th>\n",
              "      <th>3</th>\n",
              "      <th>4</th>\n",
              "      <th>5</th>\n",
              "      <th>6</th>\n",
              "      <th>7</th>\n",
              "      <th>8</th>\n",
              "      <th>9</th>\n",
              "    </tr>\n",
              "  </thead>\n",
              "  <tbody>\n",
              "    <tr>\n",
              "      <th>0</th>\n",
              "      <td>play</td>\n",
              "      <td>bases</td>\n",
              "      <td>outfielder</td>\n",
              "      <td>plus</td>\n",
              "      <td>fielder</td>\n",
              "      <td>outfield</td>\n",
              "      <td>tools</td>\n",
              "      <td>speed</td>\n",
              "      <td>field</td>\n",
              "      <td>center</td>\n",
              "    </tr>\n",
              "    <tr>\n",
              "      <th>1</th>\n",
              "      <td>also</td>\n",
              "      <td>starter</td>\n",
              "      <td>delivery</td>\n",
              "      <td>changeup</td>\n",
              "      <td>low</td>\n",
              "      <td>pitches</td>\n",
              "      <td>curveball</td>\n",
              "      <td>fastball</td>\n",
              "      <td>numbers</td>\n",
              "      <td>mph</td>\n",
              "    </tr>\n",
              "    <tr>\n",
              "      <th>2</th>\n",
              "      <td>feel</td>\n",
              "      <td>pitching</td>\n",
              "      <td>chance</td>\n",
              "      <td>changeup</td>\n",
              "      <td>curve</td>\n",
              "      <td>fastball</td>\n",
              "      <td>stuff</td>\n",
              "      <td>good</td>\n",
              "      <td>pitch</td>\n",
              "      <td>average</td>\n",
              "    </tr>\n",
              "    <tr>\n",
              "      <th>3</th>\n",
              "      <td>frame</td>\n",
              "      <td>prep</td>\n",
              "      <td>summer</td>\n",
              "      <td>top</td>\n",
              "      <td>scouts</td>\n",
              "      <td>senior</td>\n",
              "      <td>round</td>\n",
              "      <td>spring</td>\n",
              "      <td>school</td>\n",
              "      <td>high</td>\n",
              "    </tr>\n",
              "    <tr>\n",
              "      <th>4</th>\n",
              "      <td>game</td>\n",
              "      <td>percent</td>\n",
              "      <td>backstop</td>\n",
              "      <td>catching</td>\n",
              "      <td>defensive</td>\n",
              "      <td>receiving</td>\n",
              "      <td>skills</td>\n",
              "      <td>plate</td>\n",
              "      <td>catcher</td>\n",
              "      <td>behind</td>\n",
              "    </tr>\n",
              "    <tr>\n",
              "      <th>5</th>\n",
              "      <td>swing</td>\n",
              "      <td>college</td>\n",
              "      <td>strength</td>\n",
              "      <td>year</td>\n",
              "      <td>season</td>\n",
              "      <td>left</td>\n",
              "      <td>handed</td>\n",
              "      <td>homers</td>\n",
              "      <td>average</td>\n",
              "      <td>pro</td>\n",
              "    </tr>\n",
              "    <tr>\n",
              "      <th>6</th>\n",
              "      <td>instincts</td>\n",
              "      <td>contact</td>\n",
              "      <td>infield</td>\n",
              "      <td>arm</td>\n",
              "      <td>position</td>\n",
              "      <td>international</td>\n",
              "      <td>good</td>\n",
              "      <td>range</td>\n",
              "      <td>hands</td>\n",
              "      <td>shortstop</td>\n",
              "    </tr>\n",
              "    <tr>\n",
              "      <th>7</th>\n",
              "      <td>inning</td>\n",
              "      <td>college</td>\n",
              "      <td>fastball</td>\n",
              "      <td>starter</td>\n",
              "      <td>stuff</td>\n",
              "      <td>relief</td>\n",
              "      <td>slider</td>\n",
              "      <td>role</td>\n",
              "      <td>reliever</td>\n",
              "      <td>bullpen</td>\n",
              "    </tr>\n",
              "    <tr>\n",
              "      <th>8</th>\n",
              "      <td>missed</td>\n",
              "      <td>time</td>\n",
              "      <td>full</td>\n",
              "      <td>shoulder</td>\n",
              "      <td>elbow</td>\n",
              "      <td>injury</td>\n",
              "      <td>healthy</td>\n",
              "      <td>back</td>\n",
              "      <td>season</td>\n",
              "      <td>surgery</td>\n",
              "    </tr>\n",
              "    <tr>\n",
              "      <th>9</th>\n",
              "      <td>way</td>\n",
              "      <td>baseman</td>\n",
              "      <td>enough</td>\n",
              "      <td>third</td>\n",
              "      <td>profile</td>\n",
              "      <td>raw</td>\n",
              "      <td>corner</td>\n",
              "      <td>bat</td>\n",
              "      <td>hit</td>\n",
              "      <td>power</td>\n",
              "    </tr>\n",
              "  </tbody>\n",
              "</table>\n",
              "</div>"
            ],
            "text/plain": [
              "           0         1           2  ...         7         8          9\n",
              "0       play     bases  outfielder  ...     speed     field     center\n",
              "1       also   starter    delivery  ...  fastball   numbers        mph\n",
              "2       feel  pitching      chance  ...      good     pitch    average\n",
              "3      frame      prep      summer  ...    spring    school       high\n",
              "4       game   percent    backstop  ...     plate   catcher     behind\n",
              "5      swing   college    strength  ...    homers   average        pro\n",
              "6  instincts   contact     infield  ...     range     hands  shortstop\n",
              "7     inning   college    fastball  ...      role  reliever    bullpen\n",
              "8     missed      time        full  ...      back    season    surgery\n",
              "9        way   baseman      enough  ...       bat       hit      power\n",
              "\n",
              "[10 rows x 10 columns]"
            ]
          },
          "metadata": {
            "tags": []
          },
          "execution_count": 420
        }
      ]
    },
    {
      "cell_type": "code",
      "metadata": {
        "id": "IH-hLTjP3R4S",
        "colab_type": "code",
        "colab": {
          "base_uri": "https://localhost:8080/",
          "height": 274
        },
        "outputId": "68628c9f-2de8-4280-d7cd-dd08be819ae8"
      },
      "source": [
        "topics = ['toolsy OF', 'pit1', 'pit2', 'HS', 'catcher', 'col-bat', 'inf', 'RP', 'TJS', 'CIF']\n",
        "\n",
        "hm, doc_matrix = visualize_topics(topic_model, topics, {'mlb': pos_docs, 'milb': neg_docs})\n",
        "plt.gcf().subplots_adjust(left=0.15)\n",
        "plt.show()"
      ],
      "execution_count": 434,
      "outputs": [
        {
          "output_type": "display_data",
          "data": {
            "image/png": "[encoded data removed]",
            "text/plain": [
              "<Figure size 432x288 with 2 Axes>"
            ]
          },
          "metadata": {
            "tags": []
          }
        }
      ]
    }
  ]
}