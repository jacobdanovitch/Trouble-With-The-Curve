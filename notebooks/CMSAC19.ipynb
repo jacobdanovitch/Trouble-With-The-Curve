{
 "cells": [
  {
   "cell_type": "markdown",
   "metadata": {
    "slideshow": {
     "slide_type": "skip"
    }
   },
   "source": [
    "<!-- https://github.com/damianavila/RISE/issues/255 -->\n",
    "<style>\n",
    ".rise-enabled .rendered_html table.dataframe {\n",
    "    font-size: 16px;\n",
    "}\n",
    ".rendered_html code {\n",
    "    background: #EFEFEF;\n",
    "    border: 1px solid #CCC;\n",
    "    padding: 1px 5px;\n",
    "    border-radius: 1px;\n",
    "}\n",
    ".rise-enabled .fa-times-circle:before,\n",
    ".rise-enabled .fa-question:before,\n",
    ".rise-enabled aside.controls {\n",
    "    opacity: 0.1;\n",
    "}\n",
    ".rise-enabled a,\n",
    ".rise-enabled a:active,\n",
    ".rise-enabled a:hover,\n",
    ".rise-enabled a:visited,\n",
    ".rise-enabled :link {\n",
    "    text-decoration: none;\n",
    "    color: #A68910;\n",
    "}\n",
    "    \n",
    ".rendered_html table, .rendered_html th, .rendered_html tr, .rendered_html td {\n",
    "     font-size: 100%;\n",
    "}\n",
    "\n",
    "\n",
    "figure {\n",
    "    display: flex;\n",
    "}\n",
    "\n",
    "figure img {\n",
    "    margin: auto;\n",
    "}\n",
    "\n",
    "\n",
    "figure figcaption {\n",
    "    font-size: small;\n",
    "    position: absolute;\n",
    "    bottom: 0;\n",
    "    left: 0;\n",
    "    right: 0;\n",
    "    text-align: center;\n",
    "    margin-top: 2%;\n",
    "}\n",
    "\n",
    "</style>"
   ]
  },
  {
   "cell_type": "code",
   "execution_count": 51,
   "metadata": {
    "hide_input": true,
    "slideshow": {
     "slide_type": "skip"
    }
   },
   "outputs": [
    {
     "data": {
      "text/html": [
       "<!-- https://github.com/damianavila/RISE/issues/255 -->\n",
       "<style>\n",
       ".rise-enabled .rendered_html table.dataframe {\n",
       "    font-size: 16px;\n",
       "}\n",
       ".rendered_html code {\n",
       "    background: #EFEFEF;\n",
       "    border: 1px solid #CCC;\n",
       "    padding: 1px 5px;\n",
       "    border-radius: 1px;\n",
       "}\n",
       ".rise-enabled .fa-times-circle:before,\n",
       ".rise-enabled .fa-question:before,\n",
       ".rise-enabled aside.controls {\n",
       "    opacity: 0.1;\n",
       "}\n",
       ".rise-enabled a,\n",
       ".rise-enabled a:active,\n",
       ".rise-enabled a:hover,\n",
       ".rise-enabled a:visited,\n",
       ".rise-enabled :link {\n",
       "    text-decoration: none;\n",
       "    color: #A68910;\n",
       "}\n",
       "    \n",
       ".rendered_html table, .rendered_html th, .rendered_html tr, .rendered_html td {\n",
       "     font-size: 100%;\n",
       "}\n",
       "\n",
       "\n",
       "figure {\n",
       "    display: flex;\n",
       "}\n",
       "\n",
       "figure img {\n",
       "    margin: auto;\n",
       "}\n",
       "\n",
       "\n",
       "figure figcaption {\n",
       "    font-size: small;\n",
       "    position: absolute;\n",
       "    bottom: 0;\n",
       "    left: 0;\n",
       "    right: 0;\n",
       "    text-align: center;\n",
       "    margin-top: 2%;\n",
       "}\n",
       "\n",
       "</style>\n"
      ],
      "text/plain": [
       "<IPython.core.display.HTML object>"
      ]
     },
     "metadata": {},
     "output_type": "display_data"
    }
   ],
   "source": [
    "%%html\n",
    "<!-- https://github.com/damianavila/RISE/issues/255 -->\n",
    "<style>\n",
    ".rise-enabled .rendered_html table.dataframe {\n",
    "    font-size: 16px;\n",
    "}\n",
    ".rendered_html code {\n",
    "    background: #EFEFEF;\n",
    "    border: 1px solid #CCC;\n",
    "    padding: 1px 5px;\n",
    "    border-radius: 1px;\n",
    "}\n",
    ".rise-enabled .fa-times-circle:before,\n",
    ".rise-enabled .fa-question:before,\n",
    ".rise-enabled aside.controls {\n",
    "    opacity: 0.1;\n",
    "}\n",
    ".rise-enabled a,\n",
    ".rise-enabled a:active,\n",
    ".rise-enabled a:hover,\n",
    ".rise-enabled a:visited,\n",
    ".rise-enabled :link {\n",
    "    text-decoration: none;\n",
    "    color: #A68910;\n",
    "}\n",
    "    \n",
    ".rendered_html table, .rendered_html th, .rendered_html tr, .rendered_html td {\n",
    "     font-size: 100%;\n",
    "}\n",
    "\n",
    "\n",
    "figure {\n",
    "    display: flex;\n",
    "}\n",
    "\n",
    "figure img {\n",
    "    margin: auto;\n",
    "}\n",
    "\n",
    "\n",
    "figure figcaption {\n",
    "    font-size: small;\n",
    "    position: absolute;\n",
    "    bottom: 0;\n",
    "    left: 0;\n",
    "    right: 0;\n",
    "    text-align: center;\n",
    "    margin-top: 2%;\n",
    "}\n",
    "\n",
    "</style>"
   ]
  },
  {
   "cell_type": "markdown",
   "metadata": {
    "slideshow": {
     "slide_type": "skip"
    }
   },
   "source": [
    "## Notes\n",
    "\n",
    "* [Rise -> PDF](https://rise.readthedocs.io/en/maint-5.5/exportpdf.html)\n",
    "* [Customizing Rise](https://rise.readthedocs.io/en/maint-5.5/customize.html)"
   ]
  },
  {
   "cell_type": "code",
   "execution_count": null,
   "metadata": {
    "slideshow": {
     "slide_type": "skip"
    }
   },
   "outputs": [],
   "source": [
    "import pandas as pd\n",
    "import numpy as np\n",
    "\n",
    "from matplotlib import pyplot as plt, style; style.use('fivethirtyeight')\n",
    "import seaborn as sns; sns.set(context='talk')\n",
    "\n",
    "from IPython.display import display, HTML, IFrame\n",
    "\n",
    "# df = pd.read_csv('https://github.com/jacobdanovitch/Trouble-With-The-Curve/blob/master/data/twtc.csv?raw=true')\n",
    "df = pd.read_csv('https://jacobdanovitch.blob.core.windows.net/datasets/twtc.csv')"
   ]
  },
  {
   "cell_type": "markdown",
   "metadata": {
    "slideshow": {
     "slide_type": "slide"
    }
   },
   "source": [
    "<div style='text-align: center;'>\n",
    "    <h1>CMSAC '19: Trouble with the Curve</h1>\n",
    "    <h2>Jacob Danovitch</h2>\n",
    "    <h3>Carleton University | Microsoft Cortana</h3>\n",
    "</div>"
   ]
  },
  {
   "cell_type": "markdown",
   "metadata": {
    "slideshow": {
     "slide_type": "slide"
    }
   },
   "source": [
    "## Why the name?\n",
    "\n",
    "<br/>\n",
    "\n",
    "<figure>\n",
    "  <img src=\"https://static01.nyt.com/images/2012/09/21/arts/21TROUBLE_SPAN/JPTROUBLE-jumbo.jpg\" style=\"width:50%;\">\n",
    "  <figcaption>\n",
    "      Source: \n",
    "      <a href=\"https://www.nytimes.com/2012/09/21/movies/trouble-with-the-curve-with-clint-eastwood-and-amy-adams.html\">\n",
    "          nytimes\n",
    "      </a>\n",
    "  </figcaption>\n",
    "</figure>"
   ]
  },
  {
   "cell_type": "markdown",
   "metadata": {
    "slideshow": {
     "slide_type": "slide"
    }
   },
   "source": [
    "## The Dataset"
   ]
  },
  {
   "cell_type": "markdown",
   "metadata": {
    "slideshow": {
     "slide_type": "subslide"
    }
   },
   "source": [
    "* Scouting reports from MLB.com Prospect Watch & FanGraphs.com circa 2013\n",
    "* Parsed 20-80 grades with lots of regex\n",
    "* Found player IDs where possible"
   ]
  },
  {
   "cell_type": "code",
   "execution_count": 45,
   "metadata": {
    "hide_input": true,
    "slideshow": {
     "slide_type": "fragment"
    }
   },
   "outputs": [
    {
     "name": "stdout",
     "output_type": "stream",
     "text": [
      "Size: (9175, 25)\n"
     ]
    },
    {
     "data": {
      "text/html": [
       "<div>\n",
       "<style scoped>\n",
       "    .dataframe tbody tr th:only-of-type {\n",
       "        vertical-align: middle;\n",
       "    }\n",
       "\n",
       "    .dataframe tbody tr th {\n",
       "        vertical-align: top;\n",
       "    }\n",
       "\n",
       "    .dataframe thead th {\n",
       "        text-align: right;\n",
       "    }\n",
       "</style>\n",
       "<table border=\"1\" class=\"dataframe\">\n",
       "  <thead>\n",
       "    <tr style=\"text-align: right;\">\n",
       "      <th></th>\n",
       "      <th>name</th>\n",
       "      <th>key_mlbam</th>\n",
       "      <th>key_fangraphs</th>\n",
       "      <th>age</th>\n",
       "      <th>year</th>\n",
       "      <th>primary_position</th>\n",
       "      <th>eta</th>\n",
       "      <th>report</th>\n",
       "      <th>Arm</th>\n",
       "      <th>Changeup</th>\n",
       "      <th>...</th>\n",
       "      <th>Hit</th>\n",
       "      <th>Power</th>\n",
       "      <th>Run</th>\n",
       "      <th>Slider</th>\n",
       "      <th>Splitter</th>\n",
       "      <th>source</th>\n",
       "      <th>birthdate</th>\n",
       "      <th>mlb_played_first</th>\n",
       "      <th>debut_age</th>\n",
       "      <th>label</th>\n",
       "    </tr>\n",
       "  </thead>\n",
       "  <tbody>\n",
       "    <tr>\n",
       "      <th>8438</th>\n",
       "      <td>Trevor Rogers</td>\n",
       "      <td>669432</td>\n",
       "      <td>sa3005423</td>\n",
       "      <td>21.6</td>\n",
       "      <td>2019</td>\n",
       "      <td>LHP</td>\n",
       "      <td>2021.0</td>\n",
       "      <td>Rogers was a divisive draft prospect. He was c...</td>\n",
       "      <td>NaN</td>\n",
       "      <td>55.0</td>\n",
       "      <td>...</td>\n",
       "      <td>NaN</td>\n",
       "      <td>NaN</td>\n",
       "      <td>NaN</td>\n",
       "      <td>50.0</td>\n",
       "      <td>NaN</td>\n",
       "      <td>fg_2019 Report</td>\n",
       "      <td>1899-12-30</td>\n",
       "      <td>NaN</td>\n",
       "      <td>NaN</td>\n",
       "      <td>0</td>\n",
       "    </tr>\n",
       "    <tr>\n",
       "      <th>3779</th>\n",
       "      <td>Jacob Amaya</td>\n",
       "      <td>676070</td>\n",
       "      <td>sa3005081</td>\n",
       "      <td>20.3</td>\n",
       "      <td>2019</td>\n",
       "      <td>SS</td>\n",
       "      <td>2021.0</td>\n",
       "      <td>Amaya impressed scouts at the 2017 National Hi...</td>\n",
       "      <td>55.0</td>\n",
       "      <td>NaN</td>\n",
       "      <td>...</td>\n",
       "      <td>55.0</td>\n",
       "      <td>40.0</td>\n",
       "      <td>50.0</td>\n",
       "      <td>NaN</td>\n",
       "      <td>NaN</td>\n",
       "      <td>mlbam</td>\n",
       "      <td>1998-09-03</td>\n",
       "      <td>NaN</td>\n",
       "      <td>NaN</td>\n",
       "      <td>-1</td>\n",
       "    </tr>\n",
       "    <tr>\n",
       "      <th>2603</th>\n",
       "      <td>Drew Anderson</td>\n",
       "      <td>623454</td>\n",
       "      <td>15130</td>\n",
       "      <td>23.8</td>\n",
       "      <td>2018</td>\n",
       "      <td>RHP</td>\n",
       "      <td>2018.0</td>\n",
       "      <td>It hasn't exactly been a direct path for Ander...</td>\n",
       "      <td>NaN</td>\n",
       "      <td>45.0</td>\n",
       "      <td>...</td>\n",
       "      <td>NaN</td>\n",
       "      <td>NaN</td>\n",
       "      <td>NaN</td>\n",
       "      <td>NaN</td>\n",
       "      <td>NaN</td>\n",
       "      <td>mlbam</td>\n",
       "      <td>1994-03-22</td>\n",
       "      <td>2017.0</td>\n",
       "      <td>22.8</td>\n",
       "      <td>1</td>\n",
       "    </tr>\n",
       "  </tbody>\n",
       "</table>\n",
       "<p>3 rows × 25 columns</p>\n",
       "</div>"
      ],
      "text/plain": [
       "               name key_mlbam key_fangraphs   age  year primary_position  \\\n",
       "8438  Trevor Rogers    669432     sa3005423  21.6  2019              LHP   \n",
       "3779    Jacob Amaya    676070     sa3005081  20.3  2019               SS   \n",
       "2603  Drew Anderson    623454         15130  23.8  2018              RHP   \n",
       "\n",
       "         eta                                             report   Arm  \\\n",
       "8438  2021.0  Rogers was a divisive draft prospect. He was c...   NaN   \n",
       "3779  2021.0  Amaya impressed scouts at the 2017 National Hi...  55.0   \n",
       "2603  2018.0  It hasn't exactly been a direct path for Ander...   NaN   \n",
       "\n",
       "      Changeup  ...   Hit  Power   Run  Slider  Splitter          source  \\\n",
       "8438      55.0  ...   NaN    NaN   NaN    50.0       NaN  fg_2019 Report   \n",
       "3779       NaN  ...  55.0   40.0  50.0     NaN       NaN           mlbam   \n",
       "2603      45.0  ...   NaN    NaN   NaN     NaN       NaN           mlbam   \n",
       "\n",
       "       birthdate  mlb_played_first  debut_age  label  \n",
       "8438  1899-12-30               NaN        NaN      0  \n",
       "3779  1998-09-03               NaN        NaN     -1  \n",
       "2603  1994-03-22            2017.0       22.8      1  \n",
       "\n",
       "[3 rows x 25 columns]"
      ]
     },
     "execution_count": 45,
     "metadata": {},
     "output_type": "execute_result"
    }
   ],
   "source": [
    "print(f'Size: {df.shape}')\n",
    "df.sample(3)"
   ]
  },
  {
   "cell_type": "markdown",
   "metadata": {
    "slideshow": {
     "slide_type": "subslide"
    }
   },
   "source": [
    "### Dataset Statistics"
   ]
  },
  {
   "cell_type": "code",
   "execution_count": 15,
   "metadata": {
    "hide_input": true,
    "slideshow": {
     "slide_type": "subslide"
    }
   },
   "outputs": [
    {
     "data": {
      "text/html": [
       "<div>\n",
       "<style scoped>\n",
       "    .dataframe tbody tr th:only-of-type {\n",
       "        vertical-align: middle;\n",
       "    }\n",
       "\n",
       "    .dataframe tbody tr th {\n",
       "        vertical-align: top;\n",
       "    }\n",
       "\n",
       "    .dataframe thead th {\n",
       "        text-align: right;\n",
       "    }\n",
       "</style>\n",
       "<table border=\"1\" class=\"dataframe\">\n",
       "  <thead>\n",
       "    <tr style=\"text-align: right;\">\n",
       "      <th></th>\n",
       "      <th>mean</th>\n",
       "      <th>std</th>\n",
       "      <th>min</th>\n",
       "      <th>50%</th>\n",
       "      <th>max</th>\n",
       "    </tr>\n",
       "  </thead>\n",
       "  <tbody>\n",
       "    <tr>\n",
       "      <th>age</th>\n",
       "      <td>20.810431</td>\n",
       "      <td>2.307676</td>\n",
       "      <td>15.30</td>\n",
       "      <td>21.0</td>\n",
       "      <td>31.90</td>\n",
       "    </tr>\n",
       "    <tr>\n",
       "      <th>year</th>\n",
       "      <td>2016.715095</td>\n",
       "      <td>1.979656</td>\n",
       "      <td>2013.00</td>\n",
       "      <td>2017.0</td>\n",
       "      <td>2019.00</td>\n",
       "    </tr>\n",
       "    <tr>\n",
       "      <th>eta</th>\n",
       "      <td>2018.802799</td>\n",
       "      <td>2.422862</td>\n",
       "      <td>2013.00</td>\n",
       "      <td>2019.0</td>\n",
       "      <td>2025.00</td>\n",
       "    </tr>\n",
       "    <tr>\n",
       "      <th>Arm</th>\n",
       "      <td>53.824127</td>\n",
       "      <td>6.897962</td>\n",
       "      <td>30.00</td>\n",
       "      <td>55.0</td>\n",
       "      <td>80.00</td>\n",
       "    </tr>\n",
       "    <tr>\n",
       "      <th>Changeup</th>\n",
       "      <td>49.858290</td>\n",
       "      <td>5.364976</td>\n",
       "      <td>30.00</td>\n",
       "      <td>50.0</td>\n",
       "      <td>70.00</td>\n",
       "    </tr>\n",
       "    <tr>\n",
       "      <th>Control</th>\n",
       "      <td>49.205290</td>\n",
       "      <td>5.059892</td>\n",
       "      <td>30.00</td>\n",
       "      <td>50.0</td>\n",
       "      <td>70.00</td>\n",
       "    </tr>\n",
       "    <tr>\n",
       "      <th>Curveball</th>\n",
       "      <td>52.929583</td>\n",
       "      <td>5.675287</td>\n",
       "      <td>35.00</td>\n",
       "      <td>55.0</td>\n",
       "      <td>70.00</td>\n",
       "    </tr>\n",
       "    <tr>\n",
       "      <th>Cutter</th>\n",
       "      <td>52.475000</td>\n",
       "      <td>4.936723</td>\n",
       "      <td>40.00</td>\n",
       "      <td>50.0</td>\n",
       "      <td>70.00</td>\n",
       "    </tr>\n",
       "    <tr>\n",
       "      <th>Fastball</th>\n",
       "      <td>59.531873</td>\n",
       "      <td>6.665786</td>\n",
       "      <td>40.00</td>\n",
       "      <td>60.0</td>\n",
       "      <td>80.00</td>\n",
       "    </tr>\n",
       "    <tr>\n",
       "      <th>Field</th>\n",
       "      <td>51.633871</td>\n",
       "      <td>5.503923</td>\n",
       "      <td>30.00</td>\n",
       "      <td>50.0</td>\n",
       "      <td>80.00</td>\n",
       "    </tr>\n",
       "    <tr>\n",
       "      <th>Hit</th>\n",
       "      <td>49.681105</td>\n",
       "      <td>5.510597</td>\n",
       "      <td>30.00</td>\n",
       "      <td>50.0</td>\n",
       "      <td>80.00</td>\n",
       "    </tr>\n",
       "    <tr>\n",
       "      <th>Power</th>\n",
       "      <td>47.932818</td>\n",
       "      <td>9.420963</td>\n",
       "      <td>20.00</td>\n",
       "      <td>50.0</td>\n",
       "      <td>80.00</td>\n",
       "    </tr>\n",
       "    <tr>\n",
       "      <th>Run</th>\n",
       "      <td>48.837240</td>\n",
       "      <td>12.169090</td>\n",
       "      <td>20.00</td>\n",
       "      <td>50.0</td>\n",
       "      <td>80.00</td>\n",
       "    </tr>\n",
       "    <tr>\n",
       "      <th>Slider</th>\n",
       "      <td>52.735618</td>\n",
       "      <td>5.121491</td>\n",
       "      <td>30.00</td>\n",
       "      <td>50.0</td>\n",
       "      <td>70.00</td>\n",
       "    </tr>\n",
       "    <tr>\n",
       "      <th>Splitter</th>\n",
       "      <td>53.333333</td>\n",
       "      <td>7.637626</td>\n",
       "      <td>40.00</td>\n",
       "      <td>50.0</td>\n",
       "      <td>70.00</td>\n",
       "    </tr>\n",
       "    <tr>\n",
       "      <th>mlb_played_first</th>\n",
       "      <td>2017.065463</td>\n",
       "      <td>1.735580</td>\n",
       "      <td>2010.00</td>\n",
       "      <td>2017.0</td>\n",
       "      <td>2019.00</td>\n",
       "    </tr>\n",
       "    <tr>\n",
       "      <th>debut_age</th>\n",
       "      <td>23.374194</td>\n",
       "      <td>1.558851</td>\n",
       "      <td>18.89</td>\n",
       "      <td>23.4</td>\n",
       "      <td>29.27</td>\n",
       "    </tr>\n",
       "    <tr>\n",
       "      <th>label</th>\n",
       "      <td>0.078147</td>\n",
       "      <td>0.613681</td>\n",
       "      <td>-1.00</td>\n",
       "      <td>0.0</td>\n",
       "      <td>1.00</td>\n",
       "    </tr>\n",
       "  </tbody>\n",
       "</table>\n",
       "</div>"
      ],
      "text/plain": [
       "                         mean        std      min     50%      max\n",
       "age                 20.810431   2.307676    15.30    21.0    31.90\n",
       "year              2016.715095   1.979656  2013.00  2017.0  2019.00\n",
       "eta               2018.802799   2.422862  2013.00  2019.0  2025.00\n",
       "Arm                 53.824127   6.897962    30.00    55.0    80.00\n",
       "Changeup            49.858290   5.364976    30.00    50.0    70.00\n",
       "Control             49.205290   5.059892    30.00    50.0    70.00\n",
       "Curveball           52.929583   5.675287    35.00    55.0    70.00\n",
       "Cutter              52.475000   4.936723    40.00    50.0    70.00\n",
       "Fastball            59.531873   6.665786    40.00    60.0    80.00\n",
       "Field               51.633871   5.503923    30.00    50.0    80.00\n",
       "Hit                 49.681105   5.510597    30.00    50.0    80.00\n",
       "Power               47.932818   9.420963    20.00    50.0    80.00\n",
       "Run                 48.837240  12.169090    20.00    50.0    80.00\n",
       "Slider              52.735618   5.121491    30.00    50.0    70.00\n",
       "Splitter            53.333333   7.637626    40.00    50.0    70.00\n",
       "mlb_played_first  2017.065463   1.735580  2010.00  2017.0  2019.00\n",
       "debut_age           23.374194   1.558851    18.89    23.4    29.27\n",
       "label                0.078147   0.613681    -1.00     0.0     1.00"
      ]
     },
     "execution_count": 15,
     "metadata": {},
     "output_type": "execute_result"
    }
   ],
   "source": [
    "df_label_mask = (df.drop(columns='label') == 0).assign(label=False)\n",
    "df = df.mask(df_label_mask)\n",
    "\n",
    "df.describe().T[['mean', 'std', 'min', '50%', 'max']]"
   ]
  },
  {
   "cell_type": "markdown",
   "metadata": {
    "slideshow": {
     "slide_type": "subslide"
    }
   },
   "source": [
    "Positional distribution:"
   ]
  },
  {
   "cell_type": "code",
   "execution_count": 34,
   "metadata": {
    "hide_input": true,
    "slideshow": {
     "slide_type": "fragment"
    }
   },
   "outputs": [
    {
     "data": {
      "text/html": [
       "<style  type=\"text/css\" >\n",
       "    #T_ed4af962_f20d_11e9_89e0_1094bbe8edecrow0_col0 {\n",
       "            width:  10em;\n",
       "             height:  80%;\n",
       "            background:  linear-gradient(90deg,#d65f5f 100.0%, transparent 100.0%);\n",
       "        }    #T_ed4af962_f20d_11e9_89e0_1094bbe8edecrow1_col0 {\n",
       "            width:  10em;\n",
       "             height:  80%;\n",
       "            background:  linear-gradient(90deg,#d65f5f 57.5%, transparent 57.5%);\n",
       "        }    #T_ed4af962_f20d_11e9_89e0_1094bbe8edecrow2_col0 {\n",
       "            width:  10em;\n",
       "             height:  80%;\n",
       "            background:  linear-gradient(90deg,#d65f5f 32.7%, transparent 32.7%);\n",
       "        }    #T_ed4af962_f20d_11e9_89e0_1094bbe8edecrow3_col0 {\n",
       "            width:  10em;\n",
       "             height:  80%;\n",
       "            background:  linear-gradient(90deg,#d65f5f 32.0%, transparent 32.0%);\n",
       "        }    #T_ed4af962_f20d_11e9_89e0_1094bbe8edecrow4_col0 {\n",
       "            width:  10em;\n",
       "             height:  80%;\n",
       "            background:  linear-gradient(90deg,#d65f5f 16.9%, transparent 16.9%);\n",
       "        }    #T_ed4af962_f20d_11e9_89e0_1094bbe8edecrow5_col0 {\n",
       "            width:  10em;\n",
       "             height:  80%;\n",
       "            background:  linear-gradient(90deg,#d65f5f 15.2%, transparent 15.2%);\n",
       "        }    #T_ed4af962_f20d_11e9_89e0_1094bbe8edecrow6_col0 {\n",
       "            width:  10em;\n",
       "             height:  80%;\n",
       "            background:  linear-gradient(90deg,#d65f5f 10.0%, transparent 10.0%);\n",
       "        }    #T_ed4af962_f20d_11e9_89e0_1094bbe8edecrow7_col0 {\n",
       "            width:  10em;\n",
       "             height:  80%;\n",
       "            background:  linear-gradient(90deg,#d65f5f 8.6%, transparent 8.6%);\n",
       "        }    #T_ed4af962_f20d_11e9_89e0_1094bbe8edecrow8_col0 {\n",
       "            width:  10em;\n",
       "             height:  80%;\n",
       "        }</style><table id=\"T_ed4af962_f20d_11e9_89e0_1094bbe8edec\" ><thead>    <tr>        <th class=\"blank level0\" ></th>        <th class=\"col_heading level0 col0\" >primary_position</th>    </tr></thead><tbody>\n",
       "                <tr>\n",
       "                        <th id=\"T_ed4af962_f20d_11e9_89e0_1094bbe8edeclevel0_row0\" class=\"row_heading level0 row0\" >RHP</th>\n",
       "                        <td id=\"T_ed4af962_f20d_11e9_89e0_1094bbe8edecrow0_col0\" class=\"data row0 col0\" >0.3566</td>\n",
       "            </tr>\n",
       "            <tr>\n",
       "                        <th id=\"T_ed4af962_f20d_11e9_89e0_1094bbe8edeclevel0_row1\" class=\"row_heading level0 row1\" >OF</th>\n",
       "                        <td id=\"T_ed4af962_f20d_11e9_89e0_1094bbe8edecrow1_col0\" class=\"data row1 col0\" >0.2068</td>\n",
       "            </tr>\n",
       "            <tr>\n",
       "                        <th id=\"T_ed4af962_f20d_11e9_89e0_1094bbe8edeclevel0_row2\" class=\"row_heading level0 row2\" >LHP</th>\n",
       "                        <td id=\"T_ed4af962_f20d_11e9_89e0_1094bbe8edecrow2_col0\" class=\"data row2 col0\" >0.1196</td>\n",
       "            </tr>\n",
       "            <tr>\n",
       "                        <th id=\"T_ed4af962_f20d_11e9_89e0_1094bbe8edeclevel0_row3\" class=\"row_heading level0 row3\" >SS</th>\n",
       "                        <td id=\"T_ed4af962_f20d_11e9_89e0_1094bbe8edecrow3_col0\" class=\"data row3 col0\" >0.1171</td>\n",
       "            </tr>\n",
       "            <tr>\n",
       "                        <th id=\"T_ed4af962_f20d_11e9_89e0_1094bbe8edeclevel0_row4\" class=\"row_heading level0 row4\" >C</th>\n",
       "                        <td id=\"T_ed4af962_f20d_11e9_89e0_1094bbe8edecrow4_col0\" class=\"data row4 col0\" >0.0638</td>\n",
       "            </tr>\n",
       "            <tr>\n",
       "                        <th id=\"T_ed4af962_f20d_11e9_89e0_1094bbe8edeclevel0_row5\" class=\"row_heading level0 row5\" >3B</th>\n",
       "                        <td id=\"T_ed4af962_f20d_11e9_89e0_1094bbe8edecrow5_col0\" class=\"data row5 col0\" >0.0579</td>\n",
       "            </tr>\n",
       "            <tr>\n",
       "                        <th id=\"T_ed4af962_f20d_11e9_89e0_1094bbe8edeclevel0_row6\" class=\"row_heading level0 row6\" >2B</th>\n",
       "                        <td id=\"T_ed4af962_f20d_11e9_89e0_1094bbe8edecrow6_col0\" class=\"data row6 col0\" >0.0395</td>\n",
       "            </tr>\n",
       "            <tr>\n",
       "                        <th id=\"T_ed4af962_f20d_11e9_89e0_1094bbe8edeclevel0_row7\" class=\"row_heading level0 row7\" >1B</th>\n",
       "                        <td id=\"T_ed4af962_f20d_11e9_89e0_1094bbe8edecrow7_col0\" class=\"data row7 col0\" >0.0347</td>\n",
       "            </tr>\n",
       "            <tr>\n",
       "                        <th id=\"T_ed4af962_f20d_11e9_89e0_1094bbe8edeclevel0_row8\" class=\"row_heading level0 row8\" >UTIL</th>\n",
       "                        <td id=\"T_ed4af962_f20d_11e9_89e0_1094bbe8edecrow8_col0\" class=\"data row8 col0\" >0.0043</td>\n",
       "            </tr>\n",
       "    </tbody></table>"
      ],
      "text/plain": [
       "<pandas.io.formats.style.Styler at 0x126dca710>"
      ]
     },
     "execution_count": 34,
     "metadata": {},
     "output_type": "execute_result"
    }
   ],
   "source": [
    "(df.primary_position.value_counts() / len(df)).to_frame().round(4).style.bar()"
   ]
  },
  {
   "cell_type": "markdown",
   "metadata": {
    "slideshow": {
     "slide_type": "subslide"
    }
   },
   "source": [
    "Label distribution:"
   ]
  },
  {
   "cell_type": "code",
   "execution_count": 22,
   "metadata": {
    "hide_input": true,
    "slideshow": {
     "slide_type": "fragment"
    }
   },
   "outputs": [
    {
     "data": {
      "text/html": [
       "<style  type=\"text/css\" >\n",
       "    #T_59baca40_f20d_11e9_90c4_1094bbe8edecrow0_col0 {\n",
       "            width:  10em;\n",
       "             height:  80%;\n",
       "            background:  linear-gradient(90deg,#d65f5f 100.0%, transparent 100.0%);\n",
       "        }    #T_59baca40_f20d_11e9_90c4_1094bbe8edecrow1_col0 {\n",
       "            width:  10em;\n",
       "             height:  80%;\n",
       "            background:  linear-gradient(90deg,#d65f5f 16.8%, transparent 16.8%);\n",
       "        }    #T_59baca40_f20d_11e9_90c4_1094bbe8edecrow2_col0 {\n",
       "            width:  10em;\n",
       "             height:  80%;\n",
       "        }</style><table id=\"T_59baca40_f20d_11e9_90c4_1094bbe8edec\" ><thead>    <tr>        <th class=\"blank level0\" ></th>        <th class=\"col_heading level0 col0\" >label</th>    </tr></thead><tbody>\n",
       "                <tr>\n",
       "                        <th id=\"T_59baca40_f20d_11e9_90c4_1094bbe8edeclevel0_row0\" class=\"row_heading level0 row0\" >0</th>\n",
       "                        <td id=\"T_59baca40_f20d_11e9_90c4_1094bbe8edecrow0_col0\" class=\"data row0 col0\" >0.6173</td>\n",
       "            </tr>\n",
       "            <tr>\n",
       "                        <th id=\"T_59baca40_f20d_11e9_90c4_1094bbe8edeclevel0_row1\" class=\"row_heading level0 row1\" >1</th>\n",
       "                        <td id=\"T_59baca40_f20d_11e9_90c4_1094bbe8edecrow1_col0\" class=\"data row1 col0\" >0.2304</td>\n",
       "            </tr>\n",
       "            <tr>\n",
       "                        <th id=\"T_59baca40_f20d_11e9_90c4_1094bbe8edeclevel0_row2\" class=\"row_heading level0 row2\" >-1</th>\n",
       "                        <td id=\"T_59baca40_f20d_11e9_90c4_1094bbe8edecrow2_col0\" class=\"data row2 col0\" >0.1523</td>\n",
       "            </tr>\n",
       "    </tbody></table>"
      ],
      "text/plain": [
       "<pandas.io.formats.style.Styler at 0x126dca0f0>"
      ]
     },
     "execution_count": 22,
     "metadata": {},
     "output_type": "execute_result"
    }
   ],
   "source": [
    "(df.label.value_counts() / len(df)).round(4).to_frame().style.bar()"
   ]
  },
  {
   "cell_type": "markdown",
   "metadata": {
    "slideshow": {
     "slide_type": "slide"
    }
   },
   "source": [
    "## The 20-80 Scale\n",
    "\n",
    "How do scouts grade prospects by position?"
   ]
  },
  {
   "cell_type": "markdown",
   "metadata": {
    "slideshow": {
     "slide_type": "subslide"
    }
   },
   "source": [
    "* Lefties have better control\n",
    "* Righties have better fastballs"
   ]
  },
  {
   "cell_type": "code",
   "execution_count": 4,
   "metadata": {
    "hide_input": true,
    "slideshow": {
     "slide_type": "fragment"
    }
   },
   "outputs": [
    {
     "data": {
      "text/html": [
       "<style  type=\"text/css\" >\n",
       "    #T_3b7f5186_f1fe_11e9_b5e6_1094bbe8edecrow0_col0 {\n",
       "            background-color:  dodgerblue;\n",
       "        }    #T_3b7f5186_f1fe_11e9_b5e6_1094bbe8edecrow1_col1 {\n",
       "            background-color:  dodgerblue;\n",
       "        }    #T_3b7f5186_f1fe_11e9_b5e6_1094bbe8edecrow2_col0 {\n",
       "            background-color:  dodgerblue;\n",
       "        }    #T_3b7f5186_f1fe_11e9_b5e6_1094bbe8edecrow3_col1 {\n",
       "            background-color:  dodgerblue;\n",
       "        }    #T_3b7f5186_f1fe_11e9_b5e6_1094bbe8edecrow4_col1 {\n",
       "            background-color:  dodgerblue;\n",
       "        }    #T_3b7f5186_f1fe_11e9_b5e6_1094bbe8edecrow5_col1 {\n",
       "            background-color:  dodgerblue;\n",
       "        }    #T_3b7f5186_f1fe_11e9_b5e6_1094bbe8edecrow6_col0 {\n",
       "            background-color:  dodgerblue;\n",
       "        }</style><table id=\"T_3b7f5186_f1fe_11e9_b5e6_1094bbe8edec\" ><thead>    <tr>        <th class=\"index_name level0\" >primary_position</th>        <th class=\"col_heading level0 col0\" >LHP</th>        <th class=\"col_heading level0 col1\" >RHP</th>    </tr></thead><tbody>\n",
       "                <tr>\n",
       "                        <th id=\"T_3b7f5186_f1fe_11e9_b5e6_1094bbe8edeclevel0_row0\" class=\"row_heading level0 row0\" >Control</th>\n",
       "                        <td id=\"T_3b7f5186_f1fe_11e9_b5e6_1094bbe8edecrow0_col0\" class=\"data row0 col0\" >49.8371</td>\n",
       "                        <td id=\"T_3b7f5186_f1fe_11e9_b5e6_1094bbe8edecrow0_col1\" class=\"data row0 col1\" >48.9556</td>\n",
       "            </tr>\n",
       "            <tr>\n",
       "                        <th id=\"T_3b7f5186_f1fe_11e9_b5e6_1094bbe8edeclevel0_row1\" class=\"row_heading level0 row1\" >Fastball</th>\n",
       "                        <td id=\"T_3b7f5186_f1fe_11e9_b5e6_1094bbe8edecrow1_col0\" class=\"data row1 col0\" >56.3575</td>\n",
       "                        <td id=\"T_3b7f5186_f1fe_11e9_b5e6_1094bbe8edecrow1_col1\" class=\"data row1 col1\" >60.6458</td>\n",
       "            </tr>\n",
       "            <tr>\n",
       "                        <th id=\"T_3b7f5186_f1fe_11e9_b5e6_1094bbe8edeclevel0_row2\" class=\"row_heading level0 row2\" >Changeup</th>\n",
       "                        <td id=\"T_3b7f5186_f1fe_11e9_b5e6_1094bbe8edecrow2_col0\" class=\"data row2 col0\" >51.1233</td>\n",
       "                        <td id=\"T_3b7f5186_f1fe_11e9_b5e6_1094bbe8edecrow2_col1\" class=\"data row2 col1\" >49.3552</td>\n",
       "            </tr>\n",
       "            <tr>\n",
       "                        <th id=\"T_3b7f5186_f1fe_11e9_b5e6_1094bbe8edeclevel0_row3\" class=\"row_heading level0 row3\" >Curveball</th>\n",
       "                        <td id=\"T_3b7f5186_f1fe_11e9_b5e6_1094bbe8edecrow3_col0\" class=\"data row3 col0\" >52.6842</td>\n",
       "                        <td id=\"T_3b7f5186_f1fe_11e9_b5e6_1094bbe8edecrow3_col1\" class=\"data row3 col1\" >52.8867</td>\n",
       "            </tr>\n",
       "            <tr>\n",
       "                        <th id=\"T_3b7f5186_f1fe_11e9_b5e6_1094bbe8edeclevel0_row4\" class=\"row_heading level0 row4\" >Cutter</th>\n",
       "                        <td id=\"T_3b7f5186_f1fe_11e9_b5e6_1094bbe8edecrow4_col0\" class=\"data row4 col0\" >50.3409</td>\n",
       "                        <td id=\"T_3b7f5186_f1fe_11e9_b5e6_1094bbe8edecrow4_col1\" class=\"data row4 col1\" >52.9801</td>\n",
       "            </tr>\n",
       "            <tr>\n",
       "                        <th id=\"T_3b7f5186_f1fe_11e9_b5e6_1094bbe8edeclevel0_row5\" class=\"row_heading level0 row5\" >Slider</th>\n",
       "                        <td id=\"T_3b7f5186_f1fe_11e9_b5e6_1094bbe8edecrow5_col0\" class=\"data row5 col0\" >52.0267</td>\n",
       "                        <td id=\"T_3b7f5186_f1fe_11e9_b5e6_1094bbe8edecrow5_col1\" class=\"data row5 col1\" >52.912</td>\n",
       "            </tr>\n",
       "            <tr>\n",
       "                        <th id=\"T_3b7f5186_f1fe_11e9_b5e6_1094bbe8edeclevel0_row6\" class=\"row_heading level0 row6\" >Splitter</th>\n",
       "                        <td id=\"T_3b7f5186_f1fe_11e9_b5e6_1094bbe8edecrow6_col0\" class=\"data row6 col0\" >55</td>\n",
       "                        <td id=\"T_3b7f5186_f1fe_11e9_b5e6_1094bbe8edecrow6_col1\" class=\"data row6 col1\" >52.9412</td>\n",
       "            </tr>\n",
       "    </tbody></table>"
      ],
      "text/plain": [
       "<pandas.io.formats.style.Styler at 0x1219973c8>"
      ]
     },
     "execution_count": 4,
     "metadata": {},
     "output_type": "execute_result"
    }
   ],
   "source": [
    "pitch_cols = ['Control', 'Fastball', 'Changeup', 'Curveball', 'Cutter', 'Slider', 'Splitter']\n",
    "\n",
    "is_pitcher_mask = df.primary_position.isin(['LHP', 'RHP'])\n",
    "has_label_mask = (df.label != -1) # ~df.label.isnull()\n",
    "\n",
    "pitch_df = df[is_pitcher_mask & has_label_mask]\n",
    "pitch_df.mask(df == 0).groupby('primary_position').agg('mean')[pitch_cols].T.style.highlight_max(axis=1, color='dodgerblue')"
   ]
  },
  {
   "cell_type": "markdown",
   "metadata": {
    "slideshow": {
     "slide_type": "subslide"
    }
   },
   "source": [
    "* Up-the-middle spots are more defensive\n",
    "* Corner guys are more power/arm oriented\n",
    "* C, UTIL are jack-of-all-trades\n"
   ]
  },
  {
   "cell_type": "code",
   "execution_count": 5,
   "metadata": {
    "hide_input": true,
    "slideshow": {
     "slide_type": "fragment"
    }
   },
   "outputs": [
    {
     "data": {
      "text/html": [
       "<style  type=\"text/css\" >\n",
       "    #T_3c7331de_f1fe_11e9_8388_1094bbe8edecrow0_col1 {\n",
       "            background-color:  dodgerblue;\n",
       "        }    #T_3c7331de_f1fe_11e9_8388_1094bbe8edecrow1_col0 {\n",
       "            background-color:  dodgerblue;\n",
       "        }    #T_3c7331de_f1fe_11e9_8388_1094bbe8edecrow2_col5 {\n",
       "            background-color:  dodgerblue;\n",
       "        }    #T_3c7331de_f1fe_11e9_8388_1094bbe8edecrow3_col4 {\n",
       "            background-color:  dodgerblue;\n",
       "        }    #T_3c7331de_f1fe_11e9_8388_1094bbe8edecrow4_col2 {\n",
       "            background-color:  dodgerblue;\n",
       "        }</style><table id=\"T_3c7331de_f1fe_11e9_8388_1094bbe8edec\" ><thead>    <tr>        <th class=\"index_name level0\" >primary_position</th>        <th class=\"col_heading level0 col0\" >1B</th>        <th class=\"col_heading level0 col1\" >2B</th>        <th class=\"col_heading level0 col2\" >3B</th>        <th class=\"col_heading level0 col3\" >C</th>        <th class=\"col_heading level0 col4\" >OF</th>        <th class=\"col_heading level0 col5\" >SS</th>        <th class=\"col_heading level0 col6\" >UTIL</th>    </tr></thead><tbody>\n",
       "                <tr>\n",
       "                        <th id=\"T_3c7331de_f1fe_11e9_8388_1094bbe8edeclevel0_row0\" class=\"row_heading level0 row0\" >Hit</th>\n",
       "                        <td id=\"T_3c7331de_f1fe_11e9_8388_1094bbe8edecrow0_col0\" class=\"data row0 col0\" >50.0324</td>\n",
       "                        <td id=\"T_3c7331de_f1fe_11e9_8388_1094bbe8edecrow0_col1\" class=\"data row0 col1\" >52.2897</td>\n",
       "                        <td id=\"T_3c7331de_f1fe_11e9_8388_1094bbe8edecrow0_col2\" class=\"data row0 col2\" >49.4915</td>\n",
       "                        <td id=\"T_3c7331de_f1fe_11e9_8388_1094bbe8edecrow0_col3\" class=\"data row0 col3\" >47.6602</td>\n",
       "                        <td id=\"T_3c7331de_f1fe_11e9_8388_1094bbe8edecrow0_col4\" class=\"data row0 col4\" >49.5577</td>\n",
       "                        <td id=\"T_3c7331de_f1fe_11e9_8388_1094bbe8edecrow0_col5\" class=\"data row0 col5\" >50.0817</td>\n",
       "                        <td id=\"T_3c7331de_f1fe_11e9_8388_1094bbe8edecrow0_col6\" class=\"data row0 col6\" >51</td>\n",
       "            </tr>\n",
       "            <tr>\n",
       "                        <th id=\"T_3c7331de_f1fe_11e9_8388_1094bbe8edeclevel0_row1\" class=\"row_heading level0 row1\" >Power</th>\n",
       "                        <td id=\"T_3c7331de_f1fe_11e9_8388_1094bbe8edecrow1_col0\" class=\"data row1 col0\" >55.1439</td>\n",
       "                        <td id=\"T_3c7331de_f1fe_11e9_8388_1094bbe8edecrow1_col1\" class=\"data row1 col1\" >43.1034</td>\n",
       "                        <td id=\"T_3c7331de_f1fe_11e9_8388_1094bbe8edecrow1_col2\" class=\"data row1 col2\" >53.0462</td>\n",
       "                        <td id=\"T_3c7331de_f1fe_11e9_8388_1094bbe8edecrow1_col3\" class=\"data row1 col3\" >47.9333</td>\n",
       "                        <td id=\"T_3c7331de_f1fe_11e9_8388_1094bbe8edecrow1_col4\" class=\"data row1 col4\" >49.3508</td>\n",
       "                        <td id=\"T_3c7331de_f1fe_11e9_8388_1094bbe8edecrow1_col5\" class=\"data row1 col5\" >42.7895</td>\n",
       "                        <td id=\"T_3c7331de_f1fe_11e9_8388_1094bbe8edecrow1_col6\" class=\"data row1 col6\" >41.2</td>\n",
       "            </tr>\n",
       "            <tr>\n",
       "                        <th id=\"T_3c7331de_f1fe_11e9_8388_1094bbe8edeclevel0_row2\" class=\"row_heading level0 row2\" >Field</th>\n",
       "                        <td id=\"T_3c7331de_f1fe_11e9_8388_1094bbe8edecrow2_col0\" class=\"data row2 col0\" >47.8669</td>\n",
       "                        <td id=\"T_3c7331de_f1fe_11e9_8388_1094bbe8edecrow2_col1\" class=\"data row2 col1\" >49.931</td>\n",
       "                        <td id=\"T_3c7331de_f1fe_11e9_8388_1094bbe8edecrow2_col2\" class=\"data row2 col2\" >48.9317</td>\n",
       "                        <td id=\"T_3c7331de_f1fe_11e9_8388_1094bbe8edecrow2_col3\" class=\"data row2 col3\" >50.9398</td>\n",
       "                        <td id=\"T_3c7331de_f1fe_11e9_8388_1094bbe8edecrow2_col4\" class=\"data row2 col4\" >52.5234</td>\n",
       "                        <td id=\"T_3c7331de_f1fe_11e9_8388_1094bbe8edecrow2_col5\" class=\"data row2 col5\" >53.0971</td>\n",
       "                        <td id=\"T_3c7331de_f1fe_11e9_8388_1094bbe8edecrow2_col6\" class=\"data row2 col6\" >51</td>\n",
       "            </tr>\n",
       "            <tr>\n",
       "                        <th id=\"T_3c7331de_f1fe_11e9_8388_1094bbe8edeclevel0_row3\" class=\"row_heading level0 row3\" >Run</th>\n",
       "                        <td id=\"T_3c7331de_f1fe_11e9_8388_1094bbe8edecrow3_col0\" class=\"data row3 col0\" >33.6151</td>\n",
       "                        <td id=\"T_3c7331de_f1fe_11e9_8388_1094bbe8edecrow3_col1\" class=\"data row3 col1\" >51.5759</td>\n",
       "                        <td id=\"T_3c7331de_f1fe_11e9_8388_1094bbe8edecrow3_col2\" class=\"data row3 col2\" >40.578</td>\n",
       "                        <td id=\"T_3c7331de_f1fe_11e9_8388_1094bbe8edecrow3_col3\" class=\"data row3 col3\" >34.8495</td>\n",
       "                        <td id=\"T_3c7331de_f1fe_11e9_8388_1094bbe8edecrow3_col4\" class=\"data row3 col4\" >54.5161</td>\n",
       "                        <td id=\"T_3c7331de_f1fe_11e9_8388_1094bbe8edecrow3_col5\" class=\"data row3 col5\" >53.4155</td>\n",
       "                        <td id=\"T_3c7331de_f1fe_11e9_8388_1094bbe8edecrow3_col6\" class=\"data row3 col6\" >50</td>\n",
       "            </tr>\n",
       "            <tr>\n",
       "                        <th id=\"T_3c7331de_f1fe_11e9_8388_1094bbe8edeclevel0_row4\" class=\"row_heading level0 row4\" >Arm</th>\n",
       "                        <td id=\"T_3c7331de_f1fe_11e9_8388_1094bbe8edecrow4_col0\" class=\"data row4 col0\" >50.1871</td>\n",
       "                        <td id=\"T_3c7331de_f1fe_11e9_8388_1094bbe8edecrow4_col1\" class=\"data row4 col1\" >49.3069</td>\n",
       "                        <td id=\"T_3c7331de_f1fe_11e9_8388_1094bbe8edecrow4_col2\" class=\"data row4 col2\" >56.1436</td>\n",
       "                        <td id=\"T_3c7331de_f1fe_11e9_8388_1094bbe8edecrow4_col3\" class=\"data row4 col3\" >56</td>\n",
       "                        <td id=\"T_3c7331de_f1fe_11e9_8388_1094bbe8edecrow4_col4\" class=\"data row4 col4\" >52.2856</td>\n",
       "                        <td id=\"T_3c7331de_f1fe_11e9_8388_1094bbe8edecrow4_col5\" class=\"data row4 col5\" >55.9876</td>\n",
       "                        <td id=\"T_3c7331de_f1fe_11e9_8388_1094bbe8edecrow4_col6\" class=\"data row4 col6\" >54.4</td>\n",
       "            </tr>\n",
       "    </tbody></table>"
      ],
      "text/plain": [
       "<pandas.io.formats.style.Styler at 0x121997e10>"
      ]
     },
     "execution_count": 5,
     "metadata": {},
     "output_type": "execute_result"
    }
   ],
   "source": [
    "hit_cols = ['Hit', 'Power', 'Field', 'Run', 'Arm']\n",
    "\n",
    "hit_df = df[~is_pitcher_mask & has_label_mask]\n",
    "hit_df.mask(df == 0).groupby('primary_position').agg('mean')[hit_cols].T.style.highlight_max(axis=1, color='dodgerblue')"
   ]
  },
  {
   "cell_type": "markdown",
   "metadata": {
    "slideshow": {
     "slide_type": "subslide"
    }
   },
   "source": [
    "### Inter-grade correlations"
   ]
  },
  {
   "cell_type": "code",
   "execution_count": 6,
   "metadata": {
    "code_folding": [],
    "hide_input": true,
    "slideshow": {
     "slide_type": "subslide"
    }
   },
   "outputs": [
    {
     "data": {
      "image/png": "[encoded data removed]",
      "text/plain": [
       "<Figure size 1080x720 with 3 Axes>"
      ]
     },
     "metadata": {
      "needs_background": "light"
     },
     "output_type": "display_data"
    }
   ],
   "source": [
    "cmap=sns.diverging_palette(250, 5, as_cmap=True)\n",
    "fig, (ax1, ax2) = plt.subplots(figsize = (15,10), ncols=2)\n",
    "\n",
    "sns.heatmap(\n",
    "    hit_df.drop(columns=['mlb_played_first', 'debut_age', 'year', *pitch_cols]).corr(), \n",
    "    cmap=cmap,\n",
    "    center=0,\n",
    "    ax=ax1,\n",
    "    cbar=False\n",
    ")\n",
    "\n",
    "sns.heatmap(\n",
    "    pitch_df.drop(columns=['mlb_played_first', 'debut_age', 'year', *hit_cols]).corr(), \n",
    "    cmap=cmap, \n",
    "    center=0,\n",
    "    ax=ax2\n",
    ")\n",
    "\n",
    "plt.show()"
   ]
  },
  {
   "cell_type": "markdown",
   "metadata": {
    "hide_input": true,
    "slideshow": {
     "slide_type": "slide"
    }
   },
   "source": [
    "## Identifying Successful Prospects"
   ]
  },
  {
   "cell_type": "markdown",
   "metadata": {
    "slideshow": {
     "slide_type": "subslide"
    }
   },
   "source": [
    "### How are successful prospects described?"
   ]
  },
  {
   "cell_type": "markdown",
   "metadata": {
    "slideshow": {
     "slide_type": "subslide"
    }
   },
   "source": [
    "<figure>\n",
    "    <img src=\"https://i.imgur.com/ZLjuovJ.png\"> </img>\n",
    "    <figcaption>What do you notice about the most frequent words used to describe successful prospects?</figcaption>\n",
    "</figure>"
   ]
  },
  {
   "cell_type": "code",
   "execution_count": null,
   "metadata": {
    "hide_input": true,
    "slideshow": {
     "slide_type": "skip"
    }
   },
   "outputs": [],
   "source": [
    "IFrame(src='assets/label-viz.html', width = 850, height=850)"
   ]
  },
  {
   "cell_type": "markdown",
   "metadata": {
    "slideshow": {
     "slide_type": "subslide"
    }
   },
   "source": [
    "All the most discriminative terms are player names!"
   ]
  },
  {
   "cell_type": "code",
   "execution_count": 37,
   "metadata": {
    "hide_input": true,
    "slideshow": {
     "slide_type": "fragment"
    }
   },
   "outputs": [
    {
     "data": {
      "text/html": [
       "<div>\n",
       "<style scoped>\n",
       "    .dataframe tbody tr th:only-of-type {\n",
       "        vertical-align: middle;\n",
       "    }\n",
       "\n",
       "    .dataframe tbody tr th {\n",
       "        vertical-align: top;\n",
       "    }\n",
       "\n",
       "    .dataframe thead th {\n",
       "        text-align: right;\n",
       "    }\n",
       "</style>\n",
       "<table border=\"1\" class=\"dataframe\">\n",
       "  <thead>\n",
       "    <tr style=\"text-align: right;\">\n",
       "      <th></th>\n",
       "      <th>term</th>\n",
       "      <th>MiLB freq</th>\n",
       "      <th>MLB freq</th>\n",
       "      <th>MLB Score</th>\n",
       "    </tr>\n",
       "  </thead>\n",
       "  <tbody>\n",
       "    <tr>\n",
       "      <th>35864</th>\n",
       "      <td>alford</td>\n",
       "      <td>0</td>\n",
       "      <td>47</td>\n",
       "      <td>1.000000</td>\n",
       "    </tr>\n",
       "    <tr>\n",
       "      <th>132332</th>\n",
       "      <td>nix</td>\n",
       "      <td>0</td>\n",
       "      <td>43</td>\n",
       "      <td>0.999147</td>\n",
       "    </tr>\n",
       "    <tr>\n",
       "      <th>29913</th>\n",
       "      <td>cecchini</td>\n",
       "      <td>0</td>\n",
       "      <td>38</td>\n",
       "      <td>0.997598</td>\n",
       "    </tr>\n",
       "    <tr>\n",
       "      <th>109491</th>\n",
       "      <td>robles</td>\n",
       "      <td>0</td>\n",
       "      <td>35</td>\n",
       "      <td>0.996513</td>\n",
       "    </tr>\n",
       "    <tr>\n",
       "      <th>36508</th>\n",
       "      <td>banda</td>\n",
       "      <td>0</td>\n",
       "      <td>34</td>\n",
       "      <td>0.996077</td>\n",
       "    </tr>\n",
       "    <tr>\n",
       "      <th>130563</th>\n",
       "      <td>fried</td>\n",
       "      <td>0</td>\n",
       "      <td>31</td>\n",
       "      <td>0.994667</td>\n",
       "    </tr>\n",
       "    <tr>\n",
       "      <th>79964</th>\n",
       "      <td>arroyo</td>\n",
       "      <td>0</td>\n",
       "      <td>30</td>\n",
       "      <td>0.994142</td>\n",
       "    </tr>\n",
       "    <tr>\n",
       "      <th>189461</th>\n",
       "      <td>ciuffo</td>\n",
       "      <td>0</td>\n",
       "      <td>30</td>\n",
       "      <td>0.994142</td>\n",
       "    </tr>\n",
       "    <tr>\n",
       "      <th>102142</th>\n",
       "      <td>tellez</td>\n",
       "      <td>0</td>\n",
       "      <td>29</td>\n",
       "      <td>0.993580</td>\n",
       "    </tr>\n",
       "    <tr>\n",
       "      <th>219935</th>\n",
       "      <td>grisham</td>\n",
       "      <td>0</td>\n",
       "      <td>29</td>\n",
       "      <td>0.993580</td>\n",
       "    </tr>\n",
       "  </tbody>\n",
       "</table>\n",
       "</div>"
      ],
      "text/plain": [
       "            term  MiLB freq  MLB freq  MLB Score\n",
       "35864     alford          0        47   1.000000\n",
       "132332       nix          0        43   0.999147\n",
       "29913   cecchini          0        38   0.997598\n",
       "109491    robles          0        35   0.996513\n",
       "36508      banda          0        34   0.996077\n",
       "130563     fried          0        31   0.994667\n",
       "79964     arroyo          0        30   0.994142\n",
       "189461    ciuffo          0        30   0.994142\n",
       "102142    tellez          0        29   0.993580\n",
       "219935   grisham          0        29   0.993580"
      ]
     },
     "execution_count": 37,
     "metadata": {},
     "output_type": "execute_result"
    }
   ],
   "source": [
    "pd.read_csv('assets/label_term_freqs.csv').nlargest(10, 'MLB Score')"
   ]
  },
  {
   "cell_type": "markdown",
   "metadata": {
    "slideshow": {
     "slide_type": "subslide"
    }
   },
   "source": [
    "<figure>\n",
    "    <img src=\"https://i.imgur.com/kcdnj5L.png\"></img>\n",
    "    <figcaption>Post-entity masking</figcaption>\n",
    "</figure>"
   ]
  },
  {
   "cell_type": "code",
   "execution_count": null,
   "metadata": {
    "hide_input": false,
    "slideshow": {
     "slide_type": "skip"
    }
   },
   "outputs": [],
   "source": [
    "IFrame(src='assets/processed-label-viz.html', width = 1000, height=1000)"
   ]
  },
  {
   "cell_type": "markdown",
   "metadata": {
    "slideshow": {
     "slide_type": "subslide"
    }
   },
   "source": [
    "Not perfect, but better!"
   ]
  },
  {
   "cell_type": "code",
   "execution_count": 40,
   "metadata": {
    "hide_input": true,
    "slideshow": {
     "slide_type": "fragment"
    }
   },
   "outputs": [
    {
     "data": {
      "text/html": [
       "<div>\n",
       "<style scoped>\n",
       "    .dataframe tbody tr th:only-of-type {\n",
       "        vertical-align: middle;\n",
       "    }\n",
       "\n",
       "    .dataframe tbody tr th {\n",
       "        vertical-align: top;\n",
       "    }\n",
       "\n",
       "    .dataframe thead th {\n",
       "        text-align: right;\n",
       "    }\n",
       "</style>\n",
       "<table border=\"1\" class=\"dataframe\">\n",
       "  <thead>\n",
       "    <tr style=\"text-align: right;\">\n",
       "      <th></th>\n",
       "      <th>term</th>\n",
       "      <th>MiLB freq</th>\n",
       "      <th>MLB freq</th>\n",
       "      <th>MLB Score</th>\n",
       "    </tr>\n",
       "  </thead>\n",
       "  <tbody>\n",
       "    <tr>\n",
       "      <th>716</th>\n",
       "      <td>trade</td>\n",
       "      <td>210</td>\n",
       "      <td>218</td>\n",
       "      <td>1.000000</td>\n",
       "    </tr>\n",
       "    <tr>\n",
       "      <th>582</th>\n",
       "      <td>the package</td>\n",
       "      <td>20</td>\n",
       "      <td>42</td>\n",
       "      <td>0.999735</td>\n",
       "    </tr>\n",
       "    <tr>\n",
       "      <th>1151</th>\n",
       "      <td>at age</td>\n",
       "      <td>144</td>\n",
       "      <td>167</td>\n",
       "      <td>0.999512</td>\n",
       "    </tr>\n",
       "    <tr>\n",
       "      <th>236</th>\n",
       "      <td>as part</td>\n",
       "      <td>87</td>\n",
       "      <td>105</td>\n",
       "      <td>0.997560</td>\n",
       "    </tr>\n",
       "    <tr>\n",
       "      <th>2214</th>\n",
       "      <td>traded</td>\n",
       "      <td>116</td>\n",
       "      <td>118</td>\n",
       "      <td>0.997343</td>\n",
       "    </tr>\n",
       "    <tr>\n",
       "      <th>9034</th>\n",
       "      <td>youngest</td>\n",
       "      <td>54</td>\n",
       "      <td>78</td>\n",
       "      <td>0.997062</td>\n",
       "    </tr>\n",
       "    <tr>\n",
       "      <th>744</th>\n",
       "      <td>three team</td>\n",
       "      <td>17</td>\n",
       "      <td>35</td>\n",
       "      <td>0.997009</td>\n",
       "    </tr>\n",
       "    <tr>\n",
       "      <th>8289</th>\n",
       "      <td>that sent</td>\n",
       "      <td>39</td>\n",
       "      <td>61</td>\n",
       "      <td>0.996948</td>\n",
       "    </tr>\n",
       "    <tr>\n",
       "      <th>576</th>\n",
       "      <td>organization deal</td>\n",
       "      <td>34</td>\n",
       "      <td>56</td>\n",
       "      <td>0.996236</td>\n",
       "    </tr>\n",
       "    <tr>\n",
       "      <th>14306</th>\n",
       "      <td>age 20</td>\n",
       "      <td>30</td>\n",
       "      <td>53</td>\n",
       "      <td>0.996151</td>\n",
       "    </tr>\n",
       "  </tbody>\n",
       "</table>\n",
       "</div>"
      ],
      "text/plain": [
       "                    term  MiLB freq  MLB freq  MLB Score\n",
       "716                trade        210       218   1.000000\n",
       "582          the package         20        42   0.999735\n",
       "1151              at age        144       167   0.999512\n",
       "236              as part         87       105   0.997560\n",
       "2214              traded        116       118   0.997343\n",
       "9034            youngest         54        78   0.997062\n",
       "744           three team         17        35   0.997009\n",
       "8289           that sent         39        61   0.996948\n",
       "576    organization deal         34        56   0.996236\n",
       "14306             age 20         30        53   0.996151"
      ]
     },
     "execution_count": 40,
     "metadata": {},
     "output_type": "execute_result"
    }
   ],
   "source": [
    "pd.read_csv(\"assets/processed_label_term_freqs.csv\").nlargest(10, 'MLB Score')"
   ]
  },
  {
   "cell_type": "markdown",
   "metadata": {
    "slideshow": {
     "slide_type": "subslide"
    }
   },
   "source": [
    "### Classifying successful prospects"
   ]
  },
  {
   "cell_type": "markdown",
   "metadata": {
    "slideshow": {
     "slide_type": "subslide"
    }
   },
   "source": [
    "#### Task Definition\n",
    "\n",
    "* **Task**: Sequence of tokens $\\longrightarrow$ binary label\n",
    "* **Solution**: Hierarchical Attention Network (among others)\n",
    "\n",
    "<!--\n",
    "<figure style='display: flex; margin-bottom: 2%;'>\n",
    "https://passage-1257910364.cos.na-siliconvalley.myqcloud.com/QANet_3.png\n",
    "      <a href=\"http://fuyw.top/NLP_02_QANet/\">\n",
    "          fuyw.top \n",
    "      </a>\n",
    "  <img src='https://cdn-images-1.medium.com/max/2000/0*25KIIWK1G7BPJMgN.png' alt='attn' style='width: 50%; margin: auto;'></img>\n",
    "  <figcaption style='font-size: small'>Source: \n",
    "      <a href=\"https://mc.ai/self-attention-a-clever-compromise/\">\n",
    "          mc.ai \n",
    "      </a>\n",
    "  </figcaption>\n",
    "</figure>\n",
    "-->\n",
    "\n",
    "<figure style='display: flex; margin-bottom: 2%;'>\n",
    "  <img src='https://miro.medium.com/max/852/1*28XVtq2lOjOmZhcSgu1NmQ.png' alt='attn' style='width: 50%; margin: auto;'></img>\n",
    "  <figcaption style='font-size: small'>Source: \n",
    "    <a href=\"https://medium.com/analytics-vidhya/hierarchical-attention-networks-d220318cf87e\">\n",
    "        medium.com\n",
    "    </a>\n",
    "  </figcaption>\n",
    "</figure>"
   ]
  },
  {
   "cell_type": "markdown",
   "metadata": {
    "slideshow": {
     "slide_type": "subslide"
    }
   },
   "source": [
    "#### Additional considerations\n",
    "\n",
    "| Problem                   | Solution                      |\n",
    "|---------------------------|-------------------------------|\n",
    "| Heavy class imbalance     | Resampling + loss reweighting |\n",
    "| Data sparsity             | Data augmentation             |\n",
    "| (Relatively) small corpus | Pre-trained GloVe embeddings  |"
   ]
  },
  {
   "cell_type": "markdown",
   "metadata": {
    "slideshow": {
     "slide_type": "subslide"
    }
   },
   "source": [
    "#### Results\n",
    "\n",
    "| Model             | Accuracy | F1     |\n",
    "|-------------------|----------|--------|\n",
    "| Bag-Of-Embeddings | 64.65%   | 53.78% |\n",
    "| TextCNN           | 69.02%   | 56.42% |\n",
    "| LSTM+SelfAttn     | 68.64%   | 54.65% |\n",
    "| BCN               | 73.52%   | 43.33% |\n",
    "| HAN               | 66.00%   | 54.07% |\n",
    "\n",
    "<i style='font-size: small; float: left; position: absolute; bottom: 0;'>Hyperparameters: [link](https://github.com/jacobdanovitch/jdnlp/blob/master/experiments/twtc.json)</i>"
   ]
  },
  {
   "cell_type": "markdown",
   "metadata": {
    "slideshow": {
     "slide_type": "subslide"
    }
   },
   "source": [
    "* Why did you use a HAN if it wasn't even the best one?\n",
    "\n",
    "\n",
    "<figure style='display: flex; margin-bottom: 2%;'>\n",
    "  <img src='https://i.imgur.com/W6YhsDJ.png' alt='attn' style='width: 50%; margin: auto;'></img>\n",
    "  <figcaption style='font-size: small'>Source: \n",
    "    <i style='font-size: small'>Yang, Z., Yang, D., Dyer, C., He, X., Smola, A.J., & Hovy, E.H. (2016). Hierarchical Attention Networks for Document Classification. HLT-NAACL.</i>\n",
    "  </figcaption>\n",
    "</figure>"
   ]
  },
  {
   "cell_type": "markdown",
   "metadata": {
    "slideshow": {
     "slide_type": "subslide"
    }
   },
   "source": [
    "<span class=\"mark\">*Several pics of UI*</span>"
   ]
  },
  {
   "cell_type": "markdown",
   "metadata": {
    "slideshow": {
     "slide_type": "slide"
    }
   },
   "source": [
    "## Scouting the scouting reports"
   ]
  },
  {
   "cell_type": "markdown",
   "metadata": {
    "slideshow": {
     "slide_type": "subslide"
    }
   },
   "source": [
    "### Language variation"
   ]
  },
  {
   "cell_type": "markdown",
   "metadata": {
    "slideshow": {
     "slide_type": "subslide"
    }
   },
   "source": [
    "<figure>\n",
    "    <img src=\"https://i.imgur.com/HVLt9J5.png\" />\n",
    "    <figcaption>Variation in the reports of hitters and pitchers</figcaption>\n",
    "</figure>"
   ]
  },
  {
   "cell_type": "code",
   "execution_count": null,
   "metadata": {
    "hide_input": true,
    "slideshow": {
     "slide_type": "skip"
    }
   },
   "outputs": [],
   "source": [
    "IFrame(src='assets/pos-viz.html', width = 1000, height=1000)"
   ]
  },
  {
   "cell_type": "markdown",
   "metadata": {
    "slideshow": {
     "slide_type": "subslide"
    }
   },
   "source": [
    "### Semantic similarity\n",
    "\n",
    "<i style='font-size: small'>Mikolov, T., Chen, K., Corrado, G., & Dean, J. (2013). Efficient estimation of word representations in vector space.</i>"
   ]
  },
  {
   "cell_type": "markdown",
   "metadata": {
    "slideshow": {
     "slide_type": "subslide"
    }
   },
   "source": [
    "<figure>\n",
    "    <img src=\"https://i.imgur.com/pl74j1S.png\"></img>\n",
    "    <figcaption>Word-level similarity by success</figcaption>\n",
    "</figure>"
   ]
  },
  {
   "cell_type": "code",
   "execution_count": null,
   "metadata": {
    "hide_input": true,
    "slideshow": {
     "slide_type": "skip"
    }
   },
   "outputs": [],
   "source": [
    "IFrame(src='assets/embedding-label-viz.html', width = 1000, height=1000)"
   ]
  },
  {
   "cell_type": "markdown",
   "metadata": {
    "slideshow": {
     "slide_type": "subslide"
    }
   },
   "source": [
    "<figure>\n",
    "    <img src=\"https://i.imgur.com/VFlzP43.png\"></img>\n",
    "    <figcaption>Word-level similarity by position</figcaption>\n",
    "</figure>"
   ]
  },
  {
   "cell_type": "code",
   "execution_count": null,
   "metadata": {
    "hide_input": true,
    "slideshow": {
     "slide_type": "skip"
    }
   },
   "outputs": [],
   "source": [
    "IFrame(src='assets/embedding-pos-viz.html', width = 1000, height=1000)"
   ]
  },
  {
   "cell_type": "markdown",
   "metadata": {
    "slideshow": {
     "slide_type": "slide"
    }
   },
   "source": [
    "## Conclusion"
   ]
  }
 ],
 "metadata": {
  "celltoolbar": "Slideshow",
  "kernelspec": {
   "display_name": "Python 3",
   "language": "python",
   "name": "python3"
  },
  "language_info": {
   "codemirror_mode": {
    "name": "ipython",
    "version": 3
   },
   "file_extension": ".py",
   "mimetype": "text/x-python",
   "name": "python",
   "nbconvert_exporter": "python",
   "pygments_lexer": "ipython3",
   "version": "3.6.8"
  },
  "latex_envs": {
   "LaTeX_envs_menu_present": true,
   "autoclose": true,
   "autocomplete": true,
   "bibliofile": "biblio.bib",
   "cite_by": "apalike",
   "current_citInitial": 1,
   "eqLabelWithNumbers": true,
   "eqNumInitial": 1,
   "hotkeys": {
    "equation": "Ctrl-E",
    "itemize": "Ctrl-I"
   },
   "labels_anchors": false,
   "latex_user_defs": false,
   "report_style_numbering": false,
   "user_envs_cfg": false
  },
  "notify_time": "5"
 },
 "nbformat": 4,
 "nbformat_minor": 2
}
