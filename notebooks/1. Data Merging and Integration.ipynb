{
 "cells": [
  {
   "cell_type": "markdown",
   "metadata": {},
   "source": [
    "# 1. Data Merging and Integration\n",
    "\n",
    "\n",
    "This notebook will provide an overview of the dataset and demonstrate how to link the data with external resources such as statistics from MLB.com and FanGraphs. The notebook will use several external scripts that will not be explained in-depth; this notebook is simply to provide an overview of the process."
   ]
  },
  {
   "cell_type": "code",
   "execution_count": 1,
   "metadata": {},
   "outputs": [],
   "source": [
    "%load_ext autoreload\n",
    "%autoreload 2\n",
    "\n",
    "import pandas as pd\n",
    "import numpy as np\n",
    "\n",
    "from data_integration import *"
   ]
  },
  {
   "cell_type": "markdown",
   "metadata": {},
   "source": [
    "We begin by loading the `twtc` dataset as well as the dataset containing statistics for many players within the dataset. \n",
    "\n",
    "We can see that the data has information like player names and IDs, birthdates, when (or if) the player player made his MLB debut, their age at the time of the report, and so on. There are 9200 rows, of which nearly 8000 have player statistics."
   ]
  },
  {
   "cell_type": "code",
   "execution_count": 2,
   "metadata": {},
   "outputs": [
    {
     "name": "stdout",
     "output_type": "stream",
     "text": [
      "(9214, 65)\n",
      "Non-empty rows: 7969\n"
     ]
    },
    {
     "data": {
      "text/html": [
       "<div>\n",
       "<style scoped>\n",
       "    .dataframe tbody tr th:only-of-type {\n",
       "        vertical-align: middle;\n",
       "    }\n",
       "\n",
       "    .dataframe tbody tr th {\n",
       "        vertical-align: top;\n",
       "    }\n",
       "\n",
       "    .dataframe thead th {\n",
       "        text-align: right;\n",
       "    }\n",
       "</style>\n",
       "<table border=\"1\" class=\"dataframe\">\n",
       "  <thead>\n",
       "    <tr style=\"text-align: right;\">\n",
       "      <th></th>\n",
       "      <th>name</th>\n",
       "      <th>key_mlbam</th>\n",
       "      <th>key_fangraphs</th>\n",
       "      <th>key_bbref</th>\n",
       "      <th>key_bbref_minors</th>\n",
       "      <th>key_uuid</th>\n",
       "      <th>mlb_played_first</th>\n",
       "      <th>birthdate</th>\n",
       "      <th>debut_age</th>\n",
       "      <th>age</th>\n",
       "      <th>...</th>\n",
       "      <th>H</th>\n",
       "      <th>BB_pit</th>\n",
       "      <th>Age</th>\n",
       "      <th>3B</th>\n",
       "      <th>SO_pit</th>\n",
       "      <th>OBP</th>\n",
       "      <th>AVG</th>\n",
       "      <th>RBI</th>\n",
       "      <th>R</th>\n",
       "      <th>WHIP</th>\n",
       "    </tr>\n",
       "  </thead>\n",
       "  <tbody>\n",
       "    <tr>\n",
       "      <th>0</th>\n",
       "      <td>**Luke Heimlich</td>\n",
       "      <td>-1</td>\n",
       "      <td>18360</td>\n",
       "      <td>NaN</td>\n",
       "      <td>NaN</td>\n",
       "      <td>NaN</td>\n",
       "      <td>NaN</td>\n",
       "      <td>NaN</td>\n",
       "      <td>NaN</td>\n",
       "      <td>22.3</td>\n",
       "      <td>...</td>\n",
       "      <td>82.0</td>\n",
       "      <td>0.0</td>\n",
       "      <td>—</td>\n",
       "      <td>0.0</td>\n",
       "      <td>0.0</td>\n",
       "      <td>0.345679</td>\n",
       "      <td>0.281787</td>\n",
       "      <td>47.0</td>\n",
       "      <td>41.0</td>\n",
       "      <td>0.000000</td>\n",
       "    </tr>\n",
       "    <tr>\n",
       "      <th>1</th>\n",
       "      <td>**Noah Song</td>\n",
       "      <td>679977</td>\n",
       "      <td>sa917943</td>\n",
       "      <td>NaN</td>\n",
       "      <td>NaN</td>\n",
       "      <td>NaN</td>\n",
       "      <td>NaN</td>\n",
       "      <td>NaN</td>\n",
       "      <td>NaN</td>\n",
       "      <td>22.0</td>\n",
       "      <td>...</td>\n",
       "      <td>75.0</td>\n",
       "      <td>0.0</td>\n",
       "      <td>—</td>\n",
       "      <td>3.0</td>\n",
       "      <td>0.0</td>\n",
       "      <td>0.349081</td>\n",
       "      <td>0.235849</td>\n",
       "      <td>33.0</td>\n",
       "      <td>47.0</td>\n",
       "      <td>0.880000</td>\n",
       "    </tr>\n",
       "    <tr>\n",
       "      <th>2</th>\n",
       "      <td>A.J. Alexy</td>\n",
       "      <td>669935</td>\n",
       "      <td>NaN</td>\n",
       "      <td>NaN</td>\n",
       "      <td>alexy-000aj-</td>\n",
       "      <td>c5bd95ff-593c-4875-b48e-012da0caca64</td>\n",
       "      <td>NaN</td>\n",
       "      <td>1998-04-21T00:00:00.000Z</td>\n",
       "      <td>NaN</td>\n",
       "      <td>19.7</td>\n",
       "      <td>...</td>\n",
       "      <td>0.0</td>\n",
       "      <td>3.0</td>\n",
       "      <td>0</td>\n",
       "      <td>0.0</td>\n",
       "      <td>12.0</td>\n",
       "      <td>0.000000</td>\n",
       "      <td>0.000000</td>\n",
       "      <td>0.0</td>\n",
       "      <td>0.0</td>\n",
       "      <td>1.460000</td>\n",
       "    </tr>\n",
       "    <tr>\n",
       "      <th>3</th>\n",
       "      <td>A.J. Alexy</td>\n",
       "      <td>669935</td>\n",
       "      <td>NaN</td>\n",
       "      <td>NaN</td>\n",
       "      <td>alexy-000aj-</td>\n",
       "      <td>c5bd95ff-593c-4875-b48e-012da0caca64</td>\n",
       "      <td>NaN</td>\n",
       "      <td>1998-04-21T00:00:00.000Z</td>\n",
       "      <td>NaN</td>\n",
       "      <td>18.7</td>\n",
       "      <td>...</td>\n",
       "      <td>0.0</td>\n",
       "      <td>3.0</td>\n",
       "      <td>0</td>\n",
       "      <td>0.0</td>\n",
       "      <td>12.0</td>\n",
       "      <td>0.000000</td>\n",
       "      <td>0.000000</td>\n",
       "      <td>0.0</td>\n",
       "      <td>0.0</td>\n",
       "      <td>1.460000</td>\n",
       "    </tr>\n",
       "    <tr>\n",
       "      <th>4</th>\n",
       "      <td>A.J. Cole</td>\n",
       "      <td>595918</td>\n",
       "      <td>11467</td>\n",
       "      <td>coleaj01</td>\n",
       "      <td>cole--001aj-</td>\n",
       "      <td>0596c185-ae62-436a-92b9-79b9a145d64d</td>\n",
       "      <td>2015.0</td>\n",
       "      <td>1992-01-05T00:00:00.000Z</td>\n",
       "      <td>23.0</td>\n",
       "      <td>22.0</td>\n",
       "      <td>...</td>\n",
       "      <td>0.0</td>\n",
       "      <td>15.0</td>\n",
       "      <td>—</td>\n",
       "      <td>0.0</td>\n",
       "      <td>61.0</td>\n",
       "      <td>0.000000</td>\n",
       "      <td>0.000000</td>\n",
       "      <td>0.0</td>\n",
       "      <td>0.0</td>\n",
       "      <td>1.323944</td>\n",
       "    </tr>\n",
       "  </tbody>\n",
       "</table>\n",
       "<p>5 rows × 65 columns</p>\n",
       "</div>"
      ],
      "text/plain": [
       "              name  key_mlbam key_fangraphs key_bbref key_bbref_minors  \\\n",
       "0  **Luke Heimlich         -1         18360       NaN              NaN   \n",
       "1      **Noah Song     679977      sa917943       NaN              NaN   \n",
       "2       A.J. Alexy     669935           NaN       NaN     alexy-000aj-   \n",
       "3       A.J. Alexy     669935           NaN       NaN     alexy-000aj-   \n",
       "4        A.J. Cole     595918         11467  coleaj01     cole--001aj-   \n",
       "\n",
       "                               key_uuid  mlb_played_first  \\\n",
       "0                                   NaN               NaN   \n",
       "1                                   NaN               NaN   \n",
       "2  c5bd95ff-593c-4875-b48e-012da0caca64               NaN   \n",
       "3  c5bd95ff-593c-4875-b48e-012da0caca64               NaN   \n",
       "4  0596c185-ae62-436a-92b9-79b9a145d64d            2015.0   \n",
       "\n",
       "                  birthdate  debut_age   age    ...        H BB_pit  Age   3B  \\\n",
       "0                       NaN        NaN  22.3    ...     82.0    0.0    —  0.0   \n",
       "1                       NaN        NaN  22.0    ...     75.0    0.0    —  3.0   \n",
       "2  1998-04-21T00:00:00.000Z        NaN  19.7    ...      0.0    3.0    0  0.0   \n",
       "3  1998-04-21T00:00:00.000Z        NaN  18.7    ...      0.0    3.0    0  0.0   \n",
       "4  1992-01-05T00:00:00.000Z       23.0  22.0    ...      0.0   15.0    —  0.0   \n",
       "\n",
       "   SO_pit       OBP       AVG   RBI     R      WHIP  \n",
       "0     0.0  0.345679  0.281787  47.0  41.0  0.000000  \n",
       "1     0.0  0.349081  0.235849  33.0  47.0  0.880000  \n",
       "2    12.0  0.000000  0.000000   0.0   0.0  1.460000  \n",
       "3    12.0  0.000000  0.000000   0.0   0.0  1.460000  \n",
       "4    61.0  0.000000  0.000000   0.0   0.0  1.323944  \n",
       "\n",
       "[5 rows x 65 columns]"
      ]
     },
     "execution_count": 2,
     "metadata": {},
     "output_type": "execute_result"
    }
   ],
   "source": [
    "twtc = load_twtc()\n",
    "\n",
    "stats = load_stats_df(twtc)\n",
    "stats = stats.drop(['fg_season_id', 'am_season_id'], axis=1)\n",
    "\n",
    "df = pd.concat([twtc, stats], axis=1)\n",
    "\n",
    "df = fill_missing_data(df, stats.columns)\n",
    "df = df.replace('*.**', np.nan).dropna(subset=stats.columns) # some bad values from MLBAM\n",
    "\n",
    "print(df.shape)\n",
    "print(f'Non-empty rows: {(df[stats.columns].sum(axis=1) != 0).sum()}')\n",
    "df.head()"
   ]
  },
  {
   "cell_type": "markdown",
   "metadata": {},
   "source": [
    "Here is a full look at all 65 columns:"
   ]
  },
  {
   "cell_type": "code",
   "execution_count": 3,
   "metadata": {},
   "outputs": [
    {
     "data": {
      "text/plain": [
       "Index(['name', 'key_mlbam', 'key_fangraphs', 'key_bbref', 'key_bbref_minors',\n",
       "       'key_uuid', 'mlb_played_first', 'birthdate', 'debut_age', 'age', 'year',\n",
       "       'primary_position', 'eta', 'report', 'Arm', 'Changeup', 'Control',\n",
       "       'Curveball', 'Cutter', 'Fastball', 'Field', 'Hit', 'Power', 'Run',\n",
       "       'Slider', 'Splitter', 'source', 'name_count', 'clean_name',\n",
       "       'mlbam_candidate', 'old_mlbam', 'fg_season_id', 'am_season_id', 'AB',\n",
       "       'HR_pit', 'W', 'Pitches', 'HR', 'SV', 'SB', 'SLG', 'L', 'GP', 'ERA',\n",
       "       'IP', 'BS', 'Hld', 'CS', '2B', 'Level', 'Age_pit', 'OPS', 'TBF', 'BB',\n",
       "       'SO', 'H', 'BB_pit', 'Age', '3B', 'SO_pit', 'OBP', 'AVG', 'RBI', 'R',\n",
       "       'WHIP'],\n",
       "      dtype='object')"
      ]
     },
     "execution_count": 3,
     "metadata": {},
     "output_type": "execute_result"
    }
   ],
   "source": [
    "df.columns"
   ]
  },
  {
   "cell_type": "markdown",
   "metadata": {},
   "source": [
    "Let's take a look at a sample report for Vladimir Guerrero Jr."
   ]
  },
  {
   "cell_type": "code",
   "execution_count": 4,
   "metadata": {},
   "outputs": [
    {
     "name": "stdout",
     "output_type": "stream",
     "text": [
      "                      name  year\n",
      "8802  Vladimir Guerrero Jr  2018\n"
     ]
    }
   ],
   "source": [
    "player = df.query('name == \"Vladimir Guerrero Jr\"').head(1)\n",
    "\n",
    "print(player[['name', 'year']])"
   ]
  },
  {
   "cell_type": "markdown",
   "metadata": {},
   "source": [
    "We can see his report for that year, as well as the publishing source. Note that a player can have multiple reports in the same year from difference sources."
   ]
  },
  {
   "cell_type": "code",
   "execution_count": 5,
   "metadata": {},
   "outputs": [
    {
     "name": "stdout",
     "output_type": "stream",
     "text": [
      "Guerrero was identified as an elite talent for his age years before the Jays signed him at age 16, evident from a similar advanced feel for hitting and raw power of his father. Unlike his Hall of Fame father, Vlad Jr. has generally developed earlier--physically looking too big for third base as a teenager and polishing his tools at a very young stage. Whether Vlad Jr. settles as a fringy third baseman or a first basemen/designated hitter is up for debate, but his easy plus hit and power tools (with ceiling for more) are not and will make his ascent to the big leagues a quick one.\n",
      "\n",
      "Source: fg_2018 Report\n"
     ]
    }
   ],
   "source": [
    "print(player.report.values[0])\n",
    "print(f'\\nSource: {player.source.values[0]}')"
   ]
  },
  {
   "cell_type": "markdown",
   "metadata": {},
   "source": [
    "We can also take a look at his numeric grades.\n",
    "\n",
    "For pitchers, hitting-related grades will be zeroed; for hitters, the same is true for pitching-related grades."
   ]
  },
  {
   "cell_type": "code",
   "execution_count": 6,
   "metadata": {},
   "outputs": [
    {
     "data": {
      "text/html": [
       "<div>\n",
       "<style scoped>\n",
       "    .dataframe tbody tr th:only-of-type {\n",
       "        vertical-align: middle;\n",
       "    }\n",
       "\n",
       "    .dataframe tbody tr th {\n",
       "        vertical-align: top;\n",
       "    }\n",
       "\n",
       "    .dataframe thead th {\n",
       "        text-align: right;\n",
       "    }\n",
       "</style>\n",
       "<table border=\"1\" class=\"dataframe\">\n",
       "  <thead>\n",
       "    <tr style=\"text-align: right;\">\n",
       "      <th></th>\n",
       "      <th>Changeup</th>\n",
       "      <th>Control</th>\n",
       "      <th>Curveball</th>\n",
       "      <th>Cutter</th>\n",
       "      <th>Fastball</th>\n",
       "      <th>Slider</th>\n",
       "      <th>Splitter</th>\n",
       "      <th>Arm</th>\n",
       "      <th>Field</th>\n",
       "      <th>Hit</th>\n",
       "      <th>Power</th>\n",
       "      <th>Run</th>\n",
       "    </tr>\n",
       "  </thead>\n",
       "  <tbody>\n",
       "    <tr>\n",
       "      <th>8802</th>\n",
       "      <td>0</td>\n",
       "      <td>0</td>\n",
       "      <td>0</td>\n",
       "      <td>0</td>\n",
       "      <td>0</td>\n",
       "      <td>0</td>\n",
       "      <td>0.0</td>\n",
       "      <td>60</td>\n",
       "      <td>50</td>\n",
       "      <td>65</td>\n",
       "      <td>70</td>\n",
       "      <td>30</td>\n",
       "    </tr>\n",
       "  </tbody>\n",
       "</table>\n",
       "</div>"
      ],
      "text/plain": [
       "      Changeup  Control  Curveball  Cutter  Fastball  Slider  Splitter  Arm  \\\n",
       "8802         0        0          0       0         0       0       0.0   60   \n",
       "\n",
       "      Field  Hit  Power  Run  \n",
       "8802     50   65     70   30  "
      ]
     },
     "execution_count": 6,
     "metadata": {},
     "output_type": "execute_result"
    }
   ],
   "source": [
    "grade_cols = ['Changeup', 'Control','Curveball', 'Cutter', 'Fastball', 'Slider', 'Splitter',\n",
    "              'Arm', 'Field', 'Hit', 'Power', 'Run']\n",
    "player[grade_cols]"
   ]
  },
  {
   "cell_type": "markdown",
   "metadata": {},
   "source": [
    "We'll save this to a csv and move on to the next notebook."
   ]
  },
  {
   "cell_type": "code",
   "execution_count": 7,
   "metadata": {},
   "outputs": [],
   "source": [
    "df[(df[stats.columns].sum(axis=1) != 0) & (df.Level != 'MLB')].to_csv('joined_stats.csv', index=False)"
   ]
  }
 ],
 "metadata": {
  "kernelspec": {
   "display_name": "Python 3",
   "language": "python",
   "name": "python3"
  },
  "language_info": {
   "codemirror_mode": {
    "name": "ipython",
    "version": 3
   },
   "file_extension": ".py",
   "mimetype": "text/x-python",
   "name": "python",
   "nbconvert_exporter": "python",
   "pygments_lexer": "ipython3",
   "version": "3.6.8"
  }
 },
 "nbformat": 4,
 "nbformat_minor": 2
}
